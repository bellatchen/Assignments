{
  "nbformat": 4,
  "nbformat_minor": 0,
  "metadata": {
    "colab": {
      "name": "Boston Housing  Ensemble Trees.ipynb",
      "provenance": [],
      "mount_file_id": "1ArRlVNuXv9DcQVx7-WosDs_LvoAXctmR",
      "authorship_tag": "ABX9TyNVGxtlxqRf8zeYIhPsmIr4",
      "include_colab_link": true
    },
    "kernelspec": {
      "name": "python3",
      "display_name": "Python 3"
    },
    "language_info": {
      "name": "python"
    }
  },
  "cells": [
    {
      "cell_type": "markdown",
      "metadata": {
        "id": "view-in-github",
        "colab_type": "text"
      },
      "source": [
        "<a href=\"https://colab.research.google.com/github/bellatchen/Assignments/blob/main/Boston_Housing_Ensemble_Trees.ipynb\" target=\"_parent\"><img src=\"https://colab.research.google.com/assets/colab-badge.svg\" alt=\"Open In Colab\"/></a>"
      ]
    },
    {
      "cell_type": "markdown",
      "source": [
        "Bella Chen"
      ],
      "metadata": {
        "id": "VsCxzzu89xc5"
      }
    },
    {
      "cell_type": "markdown",
      "source": [
        "1) Try a Decision Tree, Bagged Tree, and Random Forest.\n",
        "\n",
        "2) Tune each model to optimize performance on the test set.\n",
        "\n",
        "3) Evaluate your best model using multiple regression metrics\n",
        "\n",
        "4) Explain in a text cell how your model will perform if deployed by referring to the metrics. "
      ],
      "metadata": {
        "id": "g3BFtITbA40y"
      }
    },
    {
      "cell_type": "code",
      "execution_count": 3,
      "metadata": {
        "id": "K0b05HElepwo"
      },
      "outputs": [],
      "source": [
        "# Imports\n",
        "import pandas as pd\n",
        "import numpy as np\n",
        "import matplotlib.pyplot as plt\n",
        "import seaborn as sns\n",
        "\n",
        "from sklearn.model_selection import train_test_split\n",
        "from sklearn.ensemble import BaggingRegressor, RandomForestRegressor\n",
        "from sklearn.tree import DecisionTreeClassifier, DecisionTreeRegressor\n",
        "from sklearn.metrics import mean_absolute_error, mean_squared_error, r2_score"
      ]
    },
    {
      "cell_type": "code",
      "source": [
        "#mounting Data\n",
        "boston_housing = \"/content/drive/MyDrive/Coding Dojo/Data Sets/Boston_Housing_from_Sklearn.csv\"\n",
        "boston_housing_df = pd.read_csv(boston_housing)\n",
        "boston_housing_df.head()\n"
      ],
      "metadata": {
        "colab": {
          "base_uri": "https://localhost:8080/",
          "height": 206
        },
        "id": "XJKE_DVb7gZy",
        "outputId": "8dd24d81-916c-49c0-fb7b-6fbcdaa3bd69"
      },
      "execution_count": 4,
      "outputs": [
        {
          "output_type": "execute_result",
          "data": {
            "text/plain": [
              "      CRIM    NOX     RM   AGE  PTRATIO  LSTAT  PRICE\n",
              "0  0.00632  0.538  6.575  65.2     15.3   4.98   24.0\n",
              "1  0.02731  0.469  6.421  78.9     17.8   9.14   21.6\n",
              "2  0.02729  0.469  7.185  61.1     17.8   4.03   34.7\n",
              "3  0.03237  0.458  6.998  45.8     18.7   2.94   33.4\n",
              "4  0.06905  0.458  7.147  54.2     18.7   5.33   36.2"
            ],
            "text/html": [
              "\n",
              "  <div id=\"df-d96ed4d1-86d4-4d2e-ae8b-611f04fb8566\">\n",
              "    <div class=\"colab-df-container\">\n",
              "      <div>\n",
              "<style scoped>\n",
              "    .dataframe tbody tr th:only-of-type {\n",
              "        vertical-align: middle;\n",
              "    }\n",
              "\n",
              "    .dataframe tbody tr th {\n",
              "        vertical-align: top;\n",
              "    }\n",
              "\n",
              "    .dataframe thead th {\n",
              "        text-align: right;\n",
              "    }\n",
              "</style>\n",
              "<table border=\"1\" class=\"dataframe\">\n",
              "  <thead>\n",
              "    <tr style=\"text-align: right;\">\n",
              "      <th></th>\n",
              "      <th>CRIM</th>\n",
              "      <th>NOX</th>\n",
              "      <th>RM</th>\n",
              "      <th>AGE</th>\n",
              "      <th>PTRATIO</th>\n",
              "      <th>LSTAT</th>\n",
              "      <th>PRICE</th>\n",
              "    </tr>\n",
              "  </thead>\n",
              "  <tbody>\n",
              "    <tr>\n",
              "      <th>0</th>\n",
              "      <td>0.00632</td>\n",
              "      <td>0.538</td>\n",
              "      <td>6.575</td>\n",
              "      <td>65.2</td>\n",
              "      <td>15.3</td>\n",
              "      <td>4.98</td>\n",
              "      <td>24.0</td>\n",
              "    </tr>\n",
              "    <tr>\n",
              "      <th>1</th>\n",
              "      <td>0.02731</td>\n",
              "      <td>0.469</td>\n",
              "      <td>6.421</td>\n",
              "      <td>78.9</td>\n",
              "      <td>17.8</td>\n",
              "      <td>9.14</td>\n",
              "      <td>21.6</td>\n",
              "    </tr>\n",
              "    <tr>\n",
              "      <th>2</th>\n",
              "      <td>0.02729</td>\n",
              "      <td>0.469</td>\n",
              "      <td>7.185</td>\n",
              "      <td>61.1</td>\n",
              "      <td>17.8</td>\n",
              "      <td>4.03</td>\n",
              "      <td>34.7</td>\n",
              "    </tr>\n",
              "    <tr>\n",
              "      <th>3</th>\n",
              "      <td>0.03237</td>\n",
              "      <td>0.458</td>\n",
              "      <td>6.998</td>\n",
              "      <td>45.8</td>\n",
              "      <td>18.7</td>\n",
              "      <td>2.94</td>\n",
              "      <td>33.4</td>\n",
              "    </tr>\n",
              "    <tr>\n",
              "      <th>4</th>\n",
              "      <td>0.06905</td>\n",
              "      <td>0.458</td>\n",
              "      <td>7.147</td>\n",
              "      <td>54.2</td>\n",
              "      <td>18.7</td>\n",
              "      <td>5.33</td>\n",
              "      <td>36.2</td>\n",
              "    </tr>\n",
              "  </tbody>\n",
              "</table>\n",
              "</div>\n",
              "      <button class=\"colab-df-convert\" onclick=\"convertToInteractive('df-d96ed4d1-86d4-4d2e-ae8b-611f04fb8566')\"\n",
              "              title=\"Convert this dataframe to an interactive table.\"\n",
              "              style=\"display:none;\">\n",
              "        \n",
              "  <svg xmlns=\"http://www.w3.org/2000/svg\" height=\"24px\"viewBox=\"0 0 24 24\"\n",
              "       width=\"24px\">\n",
              "    <path d=\"M0 0h24v24H0V0z\" fill=\"none\"/>\n",
              "    <path d=\"M18.56 5.44l.94 2.06.94-2.06 2.06-.94-2.06-.94-.94-2.06-.94 2.06-2.06.94zm-11 1L8.5 8.5l.94-2.06 2.06-.94-2.06-.94L8.5 2.5l-.94 2.06-2.06.94zm10 10l.94 2.06.94-2.06 2.06-.94-2.06-.94-.94-2.06-.94 2.06-2.06.94z\"/><path d=\"M17.41 7.96l-1.37-1.37c-.4-.4-.92-.59-1.43-.59-.52 0-1.04.2-1.43.59L10.3 9.45l-7.72 7.72c-.78.78-.78 2.05 0 2.83L4 21.41c.39.39.9.59 1.41.59.51 0 1.02-.2 1.41-.59l7.78-7.78 2.81-2.81c.8-.78.8-2.07 0-2.86zM5.41 20L4 18.59l7.72-7.72 1.47 1.35L5.41 20z\"/>\n",
              "  </svg>\n",
              "      </button>\n",
              "      \n",
              "  <style>\n",
              "    .colab-df-container {\n",
              "      display:flex;\n",
              "      flex-wrap:wrap;\n",
              "      gap: 12px;\n",
              "    }\n",
              "\n",
              "    .colab-df-convert {\n",
              "      background-color: #E8F0FE;\n",
              "      border: none;\n",
              "      border-radius: 50%;\n",
              "      cursor: pointer;\n",
              "      display: none;\n",
              "      fill: #1967D2;\n",
              "      height: 32px;\n",
              "      padding: 0 0 0 0;\n",
              "      width: 32px;\n",
              "    }\n",
              "\n",
              "    .colab-df-convert:hover {\n",
              "      background-color: #E2EBFA;\n",
              "      box-shadow: 0px 1px 2px rgba(60, 64, 67, 0.3), 0px 1px 3px 1px rgba(60, 64, 67, 0.15);\n",
              "      fill: #174EA6;\n",
              "    }\n",
              "\n",
              "    [theme=dark] .colab-df-convert {\n",
              "      background-color: #3B4455;\n",
              "      fill: #D2E3FC;\n",
              "    }\n",
              "\n",
              "    [theme=dark] .colab-df-convert:hover {\n",
              "      background-color: #434B5C;\n",
              "      box-shadow: 0px 1px 3px 1px rgba(0, 0, 0, 0.15);\n",
              "      filter: drop-shadow(0px 1px 2px rgba(0, 0, 0, 0.3));\n",
              "      fill: #FFFFFF;\n",
              "    }\n",
              "  </style>\n",
              "\n",
              "      <script>\n",
              "        const buttonEl =\n",
              "          document.querySelector('#df-d96ed4d1-86d4-4d2e-ae8b-611f04fb8566 button.colab-df-convert');\n",
              "        buttonEl.style.display =\n",
              "          google.colab.kernel.accessAllowed ? 'block' : 'none';\n",
              "\n",
              "        async function convertToInteractive(key) {\n",
              "          const element = document.querySelector('#df-d96ed4d1-86d4-4d2e-ae8b-611f04fb8566');\n",
              "          const dataTable =\n",
              "            await google.colab.kernel.invokeFunction('convertToInteractive',\n",
              "                                                     [key], {});\n",
              "          if (!dataTable) return;\n",
              "\n",
              "          const docLinkHtml = 'Like what you see? Visit the ' +\n",
              "            '<a target=\"_blank\" href=https://colab.research.google.com/notebooks/data_table.ipynb>data table notebook</a>'\n",
              "            + ' to learn more about interactive tables.';\n",
              "          element.innerHTML = '';\n",
              "          dataTable['output_type'] = 'display_data';\n",
              "          await google.colab.output.renderOutput(dataTable, element);\n",
              "          const docLink = document.createElement('div');\n",
              "          docLink.innerHTML = docLinkHtml;\n",
              "          element.appendChild(docLink);\n",
              "        }\n",
              "      </script>\n",
              "    </div>\n",
              "  </div>\n",
              "  "
            ]
          },
          "metadata": {},
          "execution_count": 4
        }
      ]
    },
    {
      "cell_type": "code",
      "source": [
        "#checking for duplicates\n",
        "boston_housing_df.duplicated().sum()"
      ],
      "metadata": {
        "colab": {
          "base_uri": "https://localhost:8080/"
        },
        "id": "-GZMsNFtegqC",
        "outputId": "f4b85527-fdbb-4f0c-8eda-fd6a6e8a7569"
      },
      "execution_count": 5,
      "outputs": [
        {
          "output_type": "execute_result",
          "data": {
            "text/plain": [
              "0"
            ]
          },
          "metadata": {},
          "execution_count": 5
        }
      ]
    },
    {
      "cell_type": "code",
      "source": [
        "#checking for missing values\n",
        "boston_housing_df.info()"
      ],
      "metadata": {
        "colab": {
          "base_uri": "https://localhost:8080/"
        },
        "id": "yqcBrytwegem",
        "outputId": "ea76cad1-9697-4f62-8503-7bd17c1b05c8"
      },
      "execution_count": 6,
      "outputs": [
        {
          "output_type": "stream",
          "name": "stdout",
          "text": [
            "<class 'pandas.core.frame.DataFrame'>\n",
            "RangeIndex: 506 entries, 0 to 505\n",
            "Data columns (total 7 columns):\n",
            " #   Column   Non-Null Count  Dtype  \n",
            "---  ------   --------------  -----  \n",
            " 0   CRIM     506 non-null    float64\n",
            " 1   NOX      506 non-null    float64\n",
            " 2   RM       506 non-null    float64\n",
            " 3   AGE      506 non-null    float64\n",
            " 4   PTRATIO  506 non-null    float64\n",
            " 5   LSTAT    506 non-null    float64\n",
            " 6   PRICE    506 non-null    float64\n",
            "dtypes: float64(7)\n",
            "memory usage: 27.8 KB\n"
          ]
        }
      ]
    },
    {
      "cell_type": "markdown",
      "source": [
        "          CRIM     per capita crime rate by town\n",
        "\n",
        "          NOX      nitric oxides concentration (parts per 10 million)\n",
        "\n",
        "          RM       average number of rooms per dwelling\n",
        "\n",
        "          AGE      proportion of owner-occupied units built prior to 1940\n",
        "\n",
        "          PTRATIO  pupil-teacher ratio by town\n",
        "\n",
        "          LSTAT    % lower economic status of the population\n",
        "\n",
        "          PRICE   Median value of owner-occupied homes in $1000's\n",
        "\n",
        "For now, you do not need to do any cleaning to this data set. You can use it \"as is.\"\n",
        "\n",
        "- determine if there are any moderate or strong correlations in your variables. "
      ],
      "metadata": {
        "id": "QUg_0cv780Hk"
      }
    },
    {
      "cell_type": "code",
      "source": [
        "# Select columns for your feature matrix (X) and select PRICE for your target vector (y).\n",
        "X = boston_housing_df.drop([\"PRICE\",\"CRIM\", \"NOX\", \"AGE\"], axis = 1)\n",
        "y = boston_housing_df[\"PRICE\"]\n"
      ],
      "metadata": {
        "id": "qDt46O_o9Xsm"
      },
      "execution_count": 7,
      "outputs": []
    },
    {
      "cell_type": "code",
      "source": [
        "# Split your data into train and test groups. Please use random number 42 for consistency!\n",
        "X_train, X_test, y_train, y_test = train_test_split(X, y, random_state=42)"
      ],
      "metadata": {
        "id": "Qv95jrcD96j3"
      },
      "execution_count": 8,
      "outputs": []
    },
    {
      "cell_type": "code",
      "source": [
        "# Decision Tree\n",
        "dec_tree = DecisionTreeRegressor(random_state = 42)\n",
        "dec_tree.fit(X_train, y_train)\n",
        "\n",
        "train_preds = dec_tree.predict(X_train)\n",
        "test_preds = dec_tree.predict(X_test)\n",
        "\n",
        "dec_tree_train_score = dec_tree.score(X_train, y_train) \n",
        "dec_tree_test_score = dec_tree.score(X_test, y_test)\n",
        "\n",
        "print(dec_tree_train_score)\n",
        "print(dec_tree_test_score)"
      ],
      "metadata": {
        "colab": {
          "base_uri": "https://localhost:8080/"
        },
        "id": "LxK6IgeX8B7X",
        "outputId": "29225e92-61e3-46c3-e42b-8ef83f4fe24c"
      },
      "execution_count": 9,
      "outputs": [
        {
          "output_type": "stream",
          "name": "stdout",
          "text": [
            "1.0\n",
            "0.4526070862755007\n"
          ]
        }
      ]
    },
    {
      "cell_type": "code",
      "source": [
        "#parameters\n",
        "dec_tree.get_params()"
      ],
      "metadata": {
        "colab": {
          "base_uri": "https://localhost:8080/"
        },
        "id": "AnvuWsKbLzhs",
        "outputId": "6c95483b-6362-4d0d-f8e6-bbcdb0748b41"
      },
      "execution_count": 10,
      "outputs": [
        {
          "output_type": "execute_result",
          "data": {
            "text/plain": [
              "{'ccp_alpha': 0.0,\n",
              " 'criterion': 'squared_error',\n",
              " 'max_depth': None,\n",
              " 'max_features': None,\n",
              " 'max_leaf_nodes': None,\n",
              " 'min_impurity_decrease': 0.0,\n",
              " 'min_samples_leaf': 1,\n",
              " 'min_samples_split': 2,\n",
              " 'min_weight_fraction_leaf': 0.0,\n",
              " 'random_state': 42,\n",
              " 'splitter': 'best'}"
            ]
          },
          "metadata": {},
          "execution_count": 10
        }
      ]
    },
    {
      "cell_type": "code",
      "source": [
        "#depth\n",
        "dec_tree.get_depth()"
      ],
      "metadata": {
        "colab": {
          "base_uri": "https://localhost:8080/"
        },
        "id": "lIcEgVyYNrtb",
        "outputId": "6181f87d-f72a-4550-ae6d-be9389973d6e"
      },
      "execution_count": 11,
      "outputs": [
        {
          "output_type": "execute_result",
          "data": {
            "text/plain": [
              "20"
            ]
          },
          "metadata": {},
          "execution_count": 11
        }
      ]
    },
    {
      "cell_type": "code",
      "source": [
        "dec_tree_6 = DecisionTreeRegressor(max_depth = 6, random_state = 42)\n",
        "dec_tree_6.fit(X_train, y_train)\n",
        "train_6_score = dec_tree_6.score(X_train, y_train)\n",
        "test_6_score = dec_tree_6.score(X_test, y_test)\n",
        "print(train_6_score)\n",
        "print(test_6_score)"
      ],
      "metadata": {
        "colab": {
          "base_uri": "https://localhost:8080/"
        },
        "id": "B_WCSX0MSlAc",
        "outputId": "714b7d0a-f4f2-4374-ae4a-29c4f42eaf37"
      },
      "execution_count": 12,
      "outputs": [
        {
          "output_type": "stream",
          "name": "stdout",
          "text": [
            "0.9214827076541541\n",
            "0.7200322619567403\n"
          ]
        }
      ]
    },
    {
      "cell_type": "code",
      "source": [
        "#Bagged Tree\n",
        "bagreg = BaggingRegressor(random_state=42)\n",
        "bagreg.get_params()"
      ],
      "metadata": {
        "colab": {
          "base_uri": "https://localhost:8080/"
        },
        "id": "N6mJW-v3TiK7",
        "outputId": "47a7a128-845b-45cb-d9cb-de91b81865bb"
      },
      "execution_count": 13,
      "outputs": [
        {
          "output_type": "execute_result",
          "data": {
            "text/plain": [
              "{'base_estimator': None,\n",
              " 'bootstrap': True,\n",
              " 'bootstrap_features': False,\n",
              " 'max_features': 1.0,\n",
              " 'max_samples': 1.0,\n",
              " 'n_estimators': 10,\n",
              " 'n_jobs': None,\n",
              " 'oob_score': False,\n",
              " 'random_state': 42,\n",
              " 'verbose': 0,\n",
              " 'warm_start': False}"
            ]
          },
          "metadata": {},
          "execution_count": 13
        }
      ]
    },
    {
      "cell_type": "code",
      "source": [
        "#fit model\n",
        "bagreg.fit(X_train, y_train)\n",
        "\n",
        "#predicting values for y\n",
        "bagreg.predict(X_test)"
      ],
      "metadata": {
        "colab": {
          "base_uri": "https://localhost:8080/"
        },
        "id": "OIb0kF2nT8KM",
        "outputId": "6f29e058-ae1d-49b1-b95b-cd2f3098820d"
      },
      "execution_count": 14,
      "outputs": [
        {
          "output_type": "execute_result",
          "data": {
            "text/plain": [
              "array([22.52, 31.02, 18.14, 23.9 , 15.36, 21.42, 20.42, 13.29, 21.32,\n",
              "       21.63, 21.8 , 17.69, 11.62, 21.42, 17.49, 27.76, 20.98,  8.85,\n",
              "       48.46, 15.96, 23.33, 23.29, 12.59, 23.6 , 14.82, 14.69, 29.52,\n",
              "       15.85, 19.39, 20.68, 19.87, 22.83, 29.45, 20.41, 11.5 , 17.66,\n",
              "       34.56, 29.42, 18.27, 23.53, 17.87, 28.08, 48.46, 23.51, 25.32,\n",
              "       13.98, 16.03, 23.04, 15.34, 29.22, 22.56, 35.91, 18.86, 25.95,\n",
              "       42.  , 21.44, 14.73, 30.04, 24.33, 19.85, 26.81, 35.22, 28.25,\n",
              "       19.51, 25.13, 19.62, 15.4 , 23.07, 25.96, 22.38, 20.36, 26.12,\n",
              "       10.13, 21.79, 21.26,  8.03, 21.54, 49.54, 12.94, 11.96, 23.58,\n",
              "        8.34, 30.13,  8.84, 20.45, 26.37, 13.47, 23.45, 23.35, 16.84,\n",
              "       22.15,  7.9 , 19.79, 20.92, 38.25, 19.51, 21.94, 10.19, 15.27,\n",
              "       13.31, 19.51, 25.61, 12.  , 26.44, 18.96, 11.67, 19.35, 26.02,\n",
              "       18.18, 23.25,  6.16, 13.  , 22.34, 21.98, 34.87, 14.49, 42.32,\n",
              "       15.6 , 17.75, 24.05, 23.55, 24.45,  9.17, 20.82, 23.22, 19.44,\n",
              "       24.36])"
            ]
          },
          "metadata": {},
          "execution_count": 14
        }
      ]
    },
    {
      "cell_type": "code",
      "source": [
        "#evaluate model performance\n",
        "bagreg_train_score = bagreg.score(X_train, y_train)\n",
        "bagreg_test_score = bagreg.score(X_test, y_test)\n",
        "print(bagreg_train_score)\n",
        "print(bagreg_test_score)"
      ],
      "metadata": {
        "colab": {
          "base_uri": "https://localhost:8080/"
        },
        "id": "94JqKBbbUL_u",
        "outputId": "46a3fbf5-a64c-4b51-852b-a2c1d4295d02"
      },
      "execution_count": 15,
      "outputs": [
        {
          "output_type": "stream",
          "name": "stdout",
          "text": [
            "0.9589474812896627\n",
            "0.6810228787398808\n"
          ]
        }
      ]
    },
    {
      "cell_type": "code",
      "source": [
        "#random forest\n",
        "#instantiating model\n",
        "rf = RandomForestRegressor(random_state= 42)\n",
        "\n",
        "#looking at hyperparameters \n",
        "rf.get_params()"
      ],
      "metadata": {
        "colab": {
          "base_uri": "https://localhost:8080/"
        },
        "id": "9YOIr706UuNB",
        "outputId": "f711378c-6b3a-4fe0-cb59-89f7882cc8aa"
      },
      "execution_count": 16,
      "outputs": [
        {
          "output_type": "execute_result",
          "data": {
            "text/plain": [
              "{'bootstrap': True,\n",
              " 'ccp_alpha': 0.0,\n",
              " 'criterion': 'squared_error',\n",
              " 'max_depth': None,\n",
              " 'max_features': 'auto',\n",
              " 'max_leaf_nodes': None,\n",
              " 'max_samples': None,\n",
              " 'min_impurity_decrease': 0.0,\n",
              " 'min_samples_leaf': 1,\n",
              " 'min_samples_split': 2,\n",
              " 'min_weight_fraction_leaf': 0.0,\n",
              " 'n_estimators': 100,\n",
              " 'n_jobs': None,\n",
              " 'oob_score': False,\n",
              " 'random_state': 42,\n",
              " 'verbose': 0,\n",
              " 'warm_start': False}"
            ]
          },
          "metadata": {},
          "execution_count": 16
        }
      ]
    },
    {
      "cell_type": "code",
      "source": [
        "#fit model\n",
        "rf.fit(X_train, y_train)\n",
        "\n",
        "rf_train_preds = rf.predict(X_train)\n",
        "rf_test_preds = rf.predict(X_test)\n",
        "#predict values for y\n",
        "rf.predict(X_test)"
      ],
      "metadata": {
        "colab": {
          "base_uri": "https://localhost:8080/"
        },
        "id": "daqs4rrqUz7t",
        "outputId": "be18c3f4-415f-4b0c-fa90-31e1d35bd92b"
      },
      "execution_count": 17,
      "outputs": [
        {
          "output_type": "execute_result",
          "data": {
            "text/plain": [
              "array([22.219, 31.851, 17.69 , 24.189, 14.647, 20.756, 19.719, 12.907,\n",
              "       21.452, 21.719, 19.915, 19.218, 12.467, 21.029, 17.591, 25.501,\n",
              "       20.927,  8.507, 47.621, 15.667, 23.822, 23.375, 12.003, 22.383,\n",
              "       14.924, 15.505, 30.201, 15.621, 20.092, 20.822, 18.988, 23.251,\n",
              "       27.037, 20.978, 11.55 , 17.275, 35.818, 22.98 , 19.644, 23.389,\n",
              "       18.256, 28.057, 46.257, 23.27 , 24.541, 15.265, 16.068, 23.248,\n",
              "       14.938, 29.483, 23.002, 35.318, 18.85 , 26.457, 44.175, 20.827,\n",
              "       14.759, 32.364, 22.971, 20.536, 26.187, 34.437, 30.741, 19.252,\n",
              "       27.195, 18.911, 15.161, 23.3  , 26.385, 20.66 , 21.089, 26.597,\n",
              "       10.559, 23.233, 21.56 ,  7.754, 20.829, 48.825, 12.774, 11.453,\n",
              "       23.502,  8.045, 30.079,  8.865, 21.233, 26.43 , 14.145, 23.257,\n",
              "       23.57 , 17.255, 21.463,  7.923, 19.149, 20.948, 28.907, 19.033,\n",
              "       23.   , 11.469, 15.128, 12.923, 20.682, 29.342, 11.327, 22.534,\n",
              "       20.946, 11.626, 17.924, 25.366, 20.643, 23.57 ,  7.108, 13.181,\n",
              "       22.863, 22.117, 34.489, 15.437, 42.769, 15.644, 17.726, 23.79 ,\n",
              "       22.824, 23.442, 10.747, 21.059, 23.579, 21.103, 23.998])"
            ]
          },
          "metadata": {},
          "execution_count": 17
        }
      ]
    },
    {
      "cell_type": "code",
      "source": [
        "#evaluate model performance\n",
        "rf_train_score = rf.score(X_train, y_train)\n",
        "rf_test_score = rf.score(X_test, y_test)\n",
        "\n",
        "print(rf_train_score)\n",
        "print(rf_test_score)"
      ],
      "metadata": {
        "colab": {
          "base_uri": "https://localhost:8080/"
        },
        "id": "jZV1OdF7U3SQ",
        "outputId": "aa7cc294-8b64-4a3a-dbd4-c0762bc1c279"
      },
      "execution_count": 18,
      "outputs": [
        {
          "output_type": "stream",
          "name": "stdout",
          "text": [
            "0.9728543493496158\n",
            "0.7185553579730205\n"
          ]
        }
      ]
    },
    {
      "cell_type": "code",
      "source": [
        "est_depths = [estimator.get_depth() for estimator in rf.estimators_]\n",
        "max(est_depths)"
      ],
      "metadata": {
        "colab": {
          "base_uri": "https://localhost:8080/"
        },
        "id": "pZzq8f8BU855",
        "outputId": "e361e87a-9375-40bd-a2eb-f5ff62efdde1"
      },
      "execution_count": 19,
      "outputs": [
        {
          "output_type": "execute_result",
          "data": {
            "text/plain": [
              "22"
            ]
          },
          "metadata": {},
          "execution_count": 19
        }
      ]
    },
    {
      "cell_type": "code",
      "source": [
        "#tuning max_depth\n",
        "rf_5 = RandomForestRegressor(max_depth=5, random_state = 42)\n",
        "rf_5.fit(X_train, y_train)\n",
        "rf_5_train_score = rf_5.score(X_train, y_train)\n",
        "rf_5_test_score = rf_5.score(X_test, y_test)\n",
        "\n",
        "print(rf_5_train_score)\n",
        "print(rf_5_test_score)"
      ],
      "metadata": {
        "colab": {
          "base_uri": "https://localhost:8080/"
        },
        "id": "GzdlYLC0V8tL",
        "outputId": "41f4855a-6d44-46f7-f674-ff70a489186c"
      },
      "execution_count": 20,
      "outputs": [
        {
          "output_type": "stream",
          "name": "stdout",
          "text": [
            "0.9130186799199409\n",
            "0.7472356811197639\n"
          ]
        }
      ]
    },
    {
      "cell_type": "code",
      "source": [
        "#3) Evaluate your best model using multiple regression metrics\n",
        "#MAE\n",
        "train_mae = mean_absolute_error(y_train, rf_train_preds)\n",
        "test_mae = mean_absolute_error(y_test, rf_test_preds)\n",
        "\n",
        "print(f'Model Training MAE', train_mae)\n",
        "print(f'Model Testing MAE', test_mae)\n",
        "\n",
        "#MSE\n",
        "train_mse = mean_squared_error(y_train, rf_train_preds)\n",
        "test_mse = mean_squared_error(y_test, rf_test_preds)\n",
        "\n",
        "print(f'Model Training MSE', train_mse)\n",
        "print(f'Model Testing MSE', test_mse)\n",
        "\n",
        "#RMSE\n",
        "train_RMSE = np.sqrt(train_mse)\n",
        "test_RMSE = np.sqrt(test_mse)\n",
        "\n",
        "print(f'Model Training rMSE', train_RMSE)\n",
        "print(f'Model Testing rMSE', test_RMSE)"
      ],
      "metadata": {
        "id": "0UWC_vsxYZ2D",
        "colab": {
          "base_uri": "https://localhost:8080/"
        },
        "outputId": "ac1a0dcc-eaf6-4f4b-ea22-76a3b1d9aed6"
      },
      "execution_count": 21,
      "outputs": [
        {
          "output_type": "stream",
          "name": "stdout",
          "text": [
            "Model Training MAE 1.0612875989445898\n",
            "Model Testing MAE 2.8220000000000005\n",
            "Model Training MSE 2.407323303430078\n",
            "Model Testing MSE 19.708764377952757\n",
            "Model Training rMSE 1.5515551241996135\n",
            "Model Testing rMSE 4.43945541456976\n"
          ]
        }
      ]
    },
    {
      "cell_type": "markdown",
      "source": [
        "According to these metrics (Mean Absolute Error, Mean Squared Error, and Root Mean Squared Error), the model would do well predicting the median price of houses with minimal errors. With the RMSE being larger than the MAE, there's some larger errors happening, but it is not severe. "
      ],
      "metadata": {
        "id": "AbTQ3PM2nRNk"
      }
    }
  ]
}