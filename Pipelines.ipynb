{
  "nbformat": 4,
  "nbformat_minor": 0,
  "metadata": {
    "colab": {
      "name": "Pipelines.ipynb",
      "provenance": [],
      "mount_file_id": "1aU19Fo4AmkipNT_5_pAXrJpO7Z9yL0ZN",
      "authorship_tag": "ABX9TyMpU3FIPYkW2NEnt/4DY9kM",
      "include_colab_link": true
    },
    "kernelspec": {
      "name": "python3",
      "display_name": "Python 3"
    },
    "language_info": {
      "name": "python"
    }
  },
  "cells": [
    {
      "cell_type": "markdown",
      "metadata": {
        "id": "view-in-github",
        "colab_type": "text"
      },
      "source": [
        "<a href=\"https://colab.research.google.com/github/bellatchen/Assignments/blob/main/Pipelines.ipynb\" target=\"_parent\"><img src=\"https://colab.research.google.com/assets/colab-badge.svg\" alt=\"Open In Colab\"/></a>"
      ]
    },
    {
      "cell_type": "markdown",
      "source": [
        "Bella Chen"
      ],
      "metadata": {
        "id": "WXKbzPAaWZ8J"
      }
    },
    {
      "cell_type": "markdown",
      "source": [
        "How well can the calories be predicted based on the Manufacturer, cereal type, grams of fat, grams of sugars, and weight in ounces per one serving of the cereal?  \n",
        "\n",
        "You will need to:\n",
        "\n",
        "Define features (X) and target (y).\n",
        "\n",
        "Train test split data to prepare for machine learning.\n",
        "\n",
        "Identify each feature as numerical, ordinal, or nominal. (Please provide this answer in a text cell in your Colab notebook).\n",
        "\n",
        "Use pipelines and column transformers to complete the following tasks:\n",
        "\n",
        "- Impute any missing values. \n",
        "  - Use ‘mean’ strategy for numeric columns and ‘most_frequent’ strategy for categorical columns\n",
        "- One-hot encode the nominal features.\n",
        "- Scale the numeric columns.\n",
        "\n",
        "All preprocessing steps should be contained within a single preprocessing object.\n",
        "\n",
        "Use your preprocessing object to transform your data appropriately, avoiding data leakage, to make it ready for modeling. \n",
        "\n",
        "Show the resulting Numpy array.\n"
      ],
      "metadata": {
        "id": "LBLbef78btiN"
      }
    },
    {
      "cell_type": "code",
      "execution_count": 63,
      "metadata": {
        "id": "XYIbgAm-WSdv"
      },
      "outputs": [],
      "source": [
        "# Imports\n",
        "import pandas as pd\n",
        "import numpy as np\n",
        "from sklearn.pipeline import make_pipeline\n",
        "from sklearn.impute import SimpleImputer\n",
        "from sklearn.preprocessing import StandardScaler, OneHotEncoder\n",
        "from sklearn.model_selection import train_test_split\n",
        "from sklearn.compose import make_column_selector, make_column_transformer\n",
        "from sklearn import set_config\n",
        "set_config(display='diagram')"
      ]
    },
    {
      "cell_type": "code",
      "source": [
        "# mounting Data\n",
        "cereal = \"/content/drive/MyDrive/Coding Dojo/Data Sets/Cereal with missing values.xlsx\"\n",
        "cereal_df_original = pd.read_excel(cereal)\n",
        "cereal_df_original\n",
        "cereal_df_1 = cereal_df_original.copy(deep= True)\n",
        "print(cereal_df_1)"
      ],
      "metadata": {
        "colab": {
          "base_uri": "https://localhost:8080/"
        },
        "id": "GSMyLU4yXISP",
        "outputId": "ec6611e2-b8a4-4e3b-cdd0-2c1d823e1c24"
      },
      "execution_count": 64,
      "outputs": [
        {
          "output_type": "stream",
          "name": "stdout",
          "text": [
            "                       name                 Manufacturer  type  \\\n",
            "0   Apple Cinnamon Cheerios                General Mills  Cold   \n",
            "1                   Basic 4                General Mills  Cold   \n",
            "2                  Cheerios                General Mills  Cold   \n",
            "3     Cinnamon Toast Crunch                General Mills  Cold   \n",
            "4                  Clusters                General Mills  Cold   \n",
            "..                      ...                          ...   ...   \n",
            "72                Rice Chex               Ralston Purina  Cold   \n",
            "73               Wheat Chex               Ralston Purina  Cold   \n",
            "74                    Maypo  American Home Food Products   Hot   \n",
            "75   Cream of Wheat (Quick)                      Nabisco   Hot   \n",
            "76           Quaker Oatmeal                  Quaker Oats   Hot   \n",
            "\n",
            "    calories per serving  grams of protein  grams of fat  \\\n",
            "0                  110.0               2.0           2.0   \n",
            "1                  130.0               3.0           2.0   \n",
            "2                    NaN               6.0           2.0   \n",
            "3                  120.0               1.0           3.0   \n",
            "4                  110.0               3.0           2.0   \n",
            "..                   ...               ...           ...   \n",
            "72                 110.0               1.0           NaN   \n",
            "73                 100.0               3.0           1.0   \n",
            "74                 100.0               4.0           1.0   \n",
            "75                 100.0               3.0           0.0   \n",
            "76                 100.0               5.0           2.0   \n",
            "\n",
            "    milligrams of sodium  grams of dietary fiber  \\\n",
            "0                  180.0                     1.5   \n",
            "1                    NaN                     2.0   \n",
            "2                  290.0                     2.0   \n",
            "3                  210.0                     0.0   \n",
            "4                  140.0                     2.0   \n",
            "..                   ...                     ...   \n",
            "72                 240.0                     0.0   \n",
            "73                 230.0                     3.0   \n",
            "74                   0.0                     0.0   \n",
            "75                  80.0                     1.0   \n",
            "76                   0.0                     2.7   \n",
            "\n",
            "    grams of complex carbohydrates  grams of sugars  milligrams of potassium  \\\n",
            "0                             10.5             10.0                     70.0   \n",
            "1                             18.0              NaN                    100.0   \n",
            "2                             17.0              1.0                    105.0   \n",
            "3                             13.0              9.0                     45.0   \n",
            "4                             13.0              7.0                    105.0   \n",
            "..                             ...              ...                      ...   \n",
            "72                            23.0              2.0                     30.0   \n",
            "73                            17.0              3.0                    115.0   \n",
            "74                            16.0              NaN                     95.0   \n",
            "75                            21.0              0.0                     -1.0   \n",
            "76                            -1.0             -1.0                    110.0   \n",
            "\n",
            "    vitamins and minerals (% of FDA recommendation)  Display shelf  \\\n",
            "0                                              25.0            1.0   \n",
            "1                                              25.0            3.0   \n",
            "2                                              25.0            1.0   \n",
            "3                                              25.0            2.0   \n",
            "4                                              25.0            3.0   \n",
            "..                                              ...            ...   \n",
            "72                                             25.0            1.0   \n",
            "73                                             25.0            1.0   \n",
            "74                                             25.0            2.0   \n",
            "75                                              0.0            2.0   \n",
            "76                                              0.0            1.0   \n",
            "\n",
            "    Weight in ounces per one serving  Number of cups in one serving  \\\n",
            "0                               1.00                           0.75   \n",
            "1                               1.33                           0.75   \n",
            "2                               1.00                           1.25   \n",
            "3                               1.00                           0.75   \n",
            "4                               1.00                           0.50   \n",
            "..                               ...                            ...   \n",
            "72                              1.00                           1.13   \n",
            "73                              1.00                           0.67   \n",
            "74                              1.00                           1.00   \n",
            "75                              1.00                           1.00   \n",
            "76                              1.00                           0.67   \n",
            "\n",
            "    Rating of cereal  \n",
            "0          29.509541  \n",
            "1          37.038562  \n",
            "2          50.764999  \n",
            "3          19.823573  \n",
            "4          40.400208  \n",
            "..               ...  \n",
            "72         41.998933  \n",
            "73         49.787445  \n",
            "74         54.850917  \n",
            "75         64.533816  \n",
            "76         50.828392  \n",
            "\n",
            "[77 rows x 16 columns]\n"
          ]
        }
      ]
    },
    {
      "cell_type": "code",
      "source": [
        "#Checking for Duplicates\n",
        "cereal_df_1.duplicated().sum()"
      ],
      "metadata": {
        "colab": {
          "base_uri": "https://localhost:8080/"
        },
        "id": "Q7sIzxI_ZGK4",
        "outputId": "d19a5e24-4921-4033-c70a-d0ceb79225b0"
      },
      "execution_count": 65,
      "outputs": [
        {
          "output_type": "execute_result",
          "data": {
            "text/plain": [
              "0"
            ]
          },
          "metadata": {},
          "execution_count": 65
        }
      ]
    },
    {
      "cell_type": "code",
      "source": [
        "#check for missing data\n",
        "cereal_df_1.isna().sum()"
      ],
      "metadata": {
        "colab": {
          "base_uri": "https://localhost:8080/"
        },
        "id": "sdiRJ-HiaTLg",
        "outputId": "dbe16f83-9da2-4fc7-b276-4d9d4a2ce81f"
      },
      "execution_count": 66,
      "outputs": [
        {
          "output_type": "execute_result",
          "data": {
            "text/plain": [
              "name                                               0\n",
              "Manufacturer                                       0\n",
              "type                                               9\n",
              "calories per serving                               7\n",
              "grams of protein                                   0\n",
              "grams of fat                                       8\n",
              "milligrams of sodium                               1\n",
              "grams of dietary fiber                             0\n",
              "grams of complex carbohydrates                     0\n",
              "grams of sugars                                    9\n",
              "milligrams of potassium                            0\n",
              "vitamins and minerals (% of FDA recommendation)    1\n",
              "Display shelf                                      0\n",
              "Weight in ounces per one serving                   0\n",
              "Number of cups in one serving                      0\n",
              "Rating of cereal                                   0\n",
              "dtype: int64"
            ]
          },
          "metadata": {},
          "execution_count": 66
        }
      ]
    },
    {
      "cell_type": "code",
      "source": [
        "cereal_df_1.info()"
      ],
      "metadata": {
        "colab": {
          "base_uri": "https://localhost:8080/"
        },
        "id": "7C0jfrzydgBa",
        "outputId": "4a78dfb2-b226-4c67-e97f-f9066184310a"
      },
      "execution_count": 67,
      "outputs": [
        {
          "output_type": "stream",
          "name": "stdout",
          "text": [
            "<class 'pandas.core.frame.DataFrame'>\n",
            "RangeIndex: 77 entries, 0 to 76\n",
            "Data columns (total 16 columns):\n",
            " #   Column                                           Non-Null Count  Dtype  \n",
            "---  ------                                           --------------  -----  \n",
            " 0   name                                             77 non-null     object \n",
            " 1   Manufacturer                                     77 non-null     object \n",
            " 2   type                                             68 non-null     object \n",
            " 3   calories per serving                             70 non-null     float64\n",
            " 4   grams of protein                                 77 non-null     float64\n",
            " 5   grams of fat                                     69 non-null     float64\n",
            " 6   milligrams of sodium                             76 non-null     float64\n",
            " 7   grams of dietary fiber                           77 non-null     float64\n",
            " 8   grams of complex carbohydrates                   77 non-null     float64\n",
            " 9   grams of sugars                                  68 non-null     float64\n",
            " 10  milligrams of potassium                          77 non-null     float64\n",
            " 11  vitamins and minerals (% of FDA recommendation)  76 non-null     float64\n",
            " 12  Display shelf                                    77 non-null     float64\n",
            " 13  Weight in ounces per one serving                 77 non-null     float64\n",
            " 14  Number of cups in one serving                    77 non-null     float64\n",
            " 15  Rating of cereal                                 77 non-null     float64\n",
            "dtypes: float64(13), object(3)\n",
            "memory usage: 9.8+ KB\n"
          ]
        }
      ]
    },
    {
      "cell_type": "code",
      "source": [
        "# Separate data into features matrix (X) and target vector (y)\n",
        "#defining X and y; predicting charges\n",
        "X = cereal_df_1.drop(columns=[\"calories per serving\"])\n",
        "y = cereal_df_1[\"calories per serving\"]\n",
        "# Train/test split the data. Using the random number 42 for consistency.\n",
        "X_train, X_test, y_train, y_test = train_test_split(X, y, random_state = 42)"
      ],
      "metadata": {
        "id": "e_5MxOa6Xi1O"
      },
      "execution_count": 68,
      "outputs": []
    },
    {
      "cell_type": "code",
      "source": [
        " #verifying split\n",
        " len(X_train)"
      ],
      "metadata": {
        "colab": {
          "base_uri": "https://localhost:8080/"
        },
        "id": "6xrwPwrCgYEh",
        "outputId": "bd4d7461-509c-4fc1-f5c4-6e476dad0763"
      },
      "execution_count": 69,
      "outputs": [
        {
          "output_type": "execute_result",
          "data": {
            "text/plain": [
              "57"
            ]
          },
          "metadata": {},
          "execution_count": 69
        }
      ]
    },
    {
      "cell_type": "markdown",
      "source": [
        "Categories are: \n",
        "\n",
        "Nominal: \n",
        "- name\n",
        "- Manufacturer\n",
        "- type\n",
        "\n",
        "Numeric:\n",
        "- calories per serving\n",
        "- grams of protein\n",
        "- grams of fat\n",
        "- milligrams of sodium\n",
        "- grams of dietary fiber\n",
        "- grams of complex carbohydrates\n",
        "- grams of sugars\n",
        "- milligrams of potassium \n",
        "- vitamins and minerals (% of FDA recommendation) \n",
        "- Display shelf\n",
        "- Weight in ounces per one serving \n",
        "- Number of cups in one serving\n",
        "\n",
        "Ordinal:\n",
        "- rating of cereal"
      ],
      "metadata": {
        "id": "5RFc2cyUaJjG"
      }
    },
    {
      "cell_type": "code",
      "source": [
        "#pipelines and column transformers to impute missing data - \"mean\" for numerical and \"most frequent\" for categorical\n",
        "#impute\n",
        "mean_imputer = SimpleImputer(strategy = \"mean\")\n",
        "most_frequent_imputer = SimpleImputer(strategy = \"most_frequent\")\n",
        "\n",
        " #create selectors (categorical and numerical)\n",
        "cat_selector = make_column_selector(dtype_include=\"object\")\n",
        "num_selector = make_column_selector(dtype_include=\"number\")\n",
        "ohe = OneHotEncoder(sparse=False, handle_unknown='ignore')\n",
        "scaler = StandardScaler()\n",
        "\n",
        "#numeric pipeline\n",
        "numeric_pipe = make_pipeline(mean_imputer, scaler)\n",
        "\n",
        "#categorical pipeline\n",
        "cat_pipe = make_pipeline(most_frequent_imputer, ohe)\n",
        "\n",
        "# create tuples of (imputer, selector) for each datatype\n",
        "num_tuple = (numeric_pipe, num_selector)\n",
        "cat_tuple = (cat_pipe, cat_selector)\n",
        "\n",
        "#column transformers\n",
        "column_transformer = make_column_transformer(num_tuple, cat_tuple)\n",
        "column_transformer\n",
        "\n",
        "#fitting column transformer\n",
        "column_transformer.fit(X_train)\n",
        "\n",
        "#transforming training and testing data (results in NumPy Array)\n",
        "X_train_imputed =  column_transformer.transform(X_train)\n",
        "X_test_imputed = column_transformer.transform(X_test)\n",
        "\n",
        "#checking for missing values and scaling and ohe\n",
        "print(np.isnan(X_train_imputed).sum().sum(), \"missing values in training data\")\n",
        "print(np.isnan(X_test_imputed).sum().sum(),\"missing values in testing data\")\n",
        "print(\"\\n\")\n",
        "print(\"All data in X_train_imputed are\", X_train_imputed.dtype)\n",
        "print(\"All data in X_test_imputed are\", X_test_imputed.dtype)\n",
        "print(\"\\n\")\n",
        "print(\"shape of data is\", X_train_imputed.shape)\n",
        "print(\"\\n\")\n",
        "X_train_imputed"
      ],
      "metadata": {
        "colab": {
          "base_uri": "https://localhost:8080/"
        },
        "id": "z446dFo4jOQK",
        "outputId": "65391e9b-4819-4a0c-8afc-f9ab690e6ea6"
      },
      "execution_count": 87,
      "outputs": [
        {
          "output_type": "stream",
          "name": "stdout",
          "text": [
            "0 missing values in training data\n",
            "0 missing values in testing data\n",
            "\n",
            "\n",
            "All data in X_train_imputed are float64\n",
            "All data in X_test_imputed are float64\n",
            "\n",
            "\n",
            "shape of data is (57, 77)\n",
            "\n",
            "\n"
          ]
        },
        {
          "output_type": "execute_result",
          "data": {
            "text/plain": [
              "array([[-1.30301442, -0.97467943,  0.56162348, ...,  0.        ,\n",
              "         1.        ,  0.        ],\n",
              "       [ 0.40438378,  0.        ,  0.68120871, ...,  0.        ,\n",
              "         1.        ,  0.        ],\n",
              "       [ 0.40438378, -0.97467943,  1.99664622, ...,  0.        ,\n",
              "         1.        ,  0.        ],\n",
              "       ...,\n",
              "       [ 1.25808288,  1.94935887, -0.03630266, ...,  1.        ,\n",
              "         1.        ,  0.        ],\n",
              "       [ 0.40438378,  0.97467943, -0.15588789, ...,  0.        ,\n",
              "         1.        ,  0.        ],\n",
              "       [ 0.40438378,  0.        ,  0.08328257, ...,  0.        ,\n",
              "         1.        ,  0.        ]])"
            ]
          },
          "metadata": {},
          "execution_count": 87
        }
      ]
    }
  ]
}