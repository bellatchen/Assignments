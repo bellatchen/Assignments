{
  "nbformat": 4,
  "nbformat_minor": 0,
  "metadata": {
    "colab": {
      "name": "Ensemble Trees.ipynb",
      "provenance": [],
      "mount_file_id": "1HGyyIZ_w4a0Gg7R8ZbGd5jOCz6LnHK4m",
      "authorship_tag": "ABX9TyOtS3R++zfc4cKkUm26uv1f",
      "include_colab_link": true
    },
    "kernelspec": {
      "name": "python3",
      "display_name": "Python 3"
    },
    "language_info": {
      "name": "python"
    }
  },
  "cells": [
    {
      "cell_type": "markdown",
      "metadata": {
        "id": "view-in-github",
        "colab_type": "text"
      },
      "source": [
        "<a href=\"https://colab.research.google.com/github/bellatchen/Assignments/blob/main/Ensemble_Trees.ipynb\" target=\"_parent\"><img src=\"https://colab.research.google.com/assets/colab-badge.svg\" alt=\"Open In Colab\"/></a>"
      ]
    },
    {
      "cell_type": "markdown",
      "source": [
        "Bella Chen"
      ],
      "metadata": {
        "id": "VsCxzzu89xc5"
      }
    },
    {
      "cell_type": "markdown",
      "source": [
        "Task\n",
        "You will use the Boston Housing Data that you have used for previous exercises including the Decision Tree Regressor.   See if you can improve your results by using these ensemble methods! \n",
        "\n",
        "Your task is to perform \n",
        "\n",
        "1) Bagged trees and\n",
        "\n",
        "2) Random forest regression \n",
        "\n",
        "techniques on the dataset to predict price from its features. \n",
        "\n"
      ],
      "metadata": {
        "id": "g3BFtITbA40y"
      }
    },
    {
      "cell_type": "code",
      "execution_count": 26,
      "metadata": {
        "id": "K0b05HElepwo"
      },
      "outputs": [],
      "source": [
        "# Imports\n",
        "import pandas as pd\n",
        "import numpy as np\n",
        "import matplotlib.pyplot as plt\n",
        "import seaborn as sns\n",
        "\n",
        "from sklearn.model_selection import train_test_split\n",
        "from sklearn.ensemble import BaggingRegressor, RandomForestRegressor\n"
      ]
    },
    {
      "cell_type": "code",
      "source": [
        "#mounting data\n",
        "Boston_housing = \"/content/drive/MyDrive/Coding Dojo/Data Sets/Boston_Housing_from_Sklearn.csv\"\n",
        "Boston_housing_df = pd.read_csv(Boston_housing)\n",
        "Boston_housing_df.head()"
      ],
      "metadata": {
        "colab": {
          "base_uri": "https://localhost:8080/",
          "height": 206
        },
        "id": "UMFdumJKitpH",
        "outputId": "fb6c7686-fb4d-4e39-8991-cd1904b00f7d"
      },
      "execution_count": 15,
      "outputs": [
        {
          "output_type": "execute_result",
          "data": {
            "text/plain": [
              "      CRIM    NOX     RM   AGE  PTRATIO  LSTAT  PRICE\n",
              "0  0.00632  0.538  6.575  65.2     15.3   4.98   24.0\n",
              "1  0.02731  0.469  6.421  78.9     17.8   9.14   21.6\n",
              "2  0.02729  0.469  7.185  61.1     17.8   4.03   34.7\n",
              "3  0.03237  0.458  6.998  45.8     18.7   2.94   33.4\n",
              "4  0.06905  0.458  7.147  54.2     18.7   5.33   36.2"
            ],
            "text/html": [
              "\n",
              "  <div id=\"df-80c61844-1f6c-42ae-a772-77b2c55a28ca\">\n",
              "    <div class=\"colab-df-container\">\n",
              "      <div>\n",
              "<style scoped>\n",
              "    .dataframe tbody tr th:only-of-type {\n",
              "        vertical-align: middle;\n",
              "    }\n",
              "\n",
              "    .dataframe tbody tr th {\n",
              "        vertical-align: top;\n",
              "    }\n",
              "\n",
              "    .dataframe thead th {\n",
              "        text-align: right;\n",
              "    }\n",
              "</style>\n",
              "<table border=\"1\" class=\"dataframe\">\n",
              "  <thead>\n",
              "    <tr style=\"text-align: right;\">\n",
              "      <th></th>\n",
              "      <th>CRIM</th>\n",
              "      <th>NOX</th>\n",
              "      <th>RM</th>\n",
              "      <th>AGE</th>\n",
              "      <th>PTRATIO</th>\n",
              "      <th>LSTAT</th>\n",
              "      <th>PRICE</th>\n",
              "    </tr>\n",
              "  </thead>\n",
              "  <tbody>\n",
              "    <tr>\n",
              "      <th>0</th>\n",
              "      <td>0.00632</td>\n",
              "      <td>0.538</td>\n",
              "      <td>6.575</td>\n",
              "      <td>65.2</td>\n",
              "      <td>15.3</td>\n",
              "      <td>4.98</td>\n",
              "      <td>24.0</td>\n",
              "    </tr>\n",
              "    <tr>\n",
              "      <th>1</th>\n",
              "      <td>0.02731</td>\n",
              "      <td>0.469</td>\n",
              "      <td>6.421</td>\n",
              "      <td>78.9</td>\n",
              "      <td>17.8</td>\n",
              "      <td>9.14</td>\n",
              "      <td>21.6</td>\n",
              "    </tr>\n",
              "    <tr>\n",
              "      <th>2</th>\n",
              "      <td>0.02729</td>\n",
              "      <td>0.469</td>\n",
              "      <td>7.185</td>\n",
              "      <td>61.1</td>\n",
              "      <td>17.8</td>\n",
              "      <td>4.03</td>\n",
              "      <td>34.7</td>\n",
              "    </tr>\n",
              "    <tr>\n",
              "      <th>3</th>\n",
              "      <td>0.03237</td>\n",
              "      <td>0.458</td>\n",
              "      <td>6.998</td>\n",
              "      <td>45.8</td>\n",
              "      <td>18.7</td>\n",
              "      <td>2.94</td>\n",
              "      <td>33.4</td>\n",
              "    </tr>\n",
              "    <tr>\n",
              "      <th>4</th>\n",
              "      <td>0.06905</td>\n",
              "      <td>0.458</td>\n",
              "      <td>7.147</td>\n",
              "      <td>54.2</td>\n",
              "      <td>18.7</td>\n",
              "      <td>5.33</td>\n",
              "      <td>36.2</td>\n",
              "    </tr>\n",
              "  </tbody>\n",
              "</table>\n",
              "</div>\n",
              "      <button class=\"colab-df-convert\" onclick=\"convertToInteractive('df-80c61844-1f6c-42ae-a772-77b2c55a28ca')\"\n",
              "              title=\"Convert this dataframe to an interactive table.\"\n",
              "              style=\"display:none;\">\n",
              "        \n",
              "  <svg xmlns=\"http://www.w3.org/2000/svg\" height=\"24px\"viewBox=\"0 0 24 24\"\n",
              "       width=\"24px\">\n",
              "    <path d=\"M0 0h24v24H0V0z\" fill=\"none\"/>\n",
              "    <path d=\"M18.56 5.44l.94 2.06.94-2.06 2.06-.94-2.06-.94-.94-2.06-.94 2.06-2.06.94zm-11 1L8.5 8.5l.94-2.06 2.06-.94-2.06-.94L8.5 2.5l-.94 2.06-2.06.94zm10 10l.94 2.06.94-2.06 2.06-.94-2.06-.94-.94-2.06-.94 2.06-2.06.94z\"/><path d=\"M17.41 7.96l-1.37-1.37c-.4-.4-.92-.59-1.43-.59-.52 0-1.04.2-1.43.59L10.3 9.45l-7.72 7.72c-.78.78-.78 2.05 0 2.83L4 21.41c.39.39.9.59 1.41.59.51 0 1.02-.2 1.41-.59l7.78-7.78 2.81-2.81c.8-.78.8-2.07 0-2.86zM5.41 20L4 18.59l7.72-7.72 1.47 1.35L5.41 20z\"/>\n",
              "  </svg>\n",
              "      </button>\n",
              "      \n",
              "  <style>\n",
              "    .colab-df-container {\n",
              "      display:flex;\n",
              "      flex-wrap:wrap;\n",
              "      gap: 12px;\n",
              "    }\n",
              "\n",
              "    .colab-df-convert {\n",
              "      background-color: #E8F0FE;\n",
              "      border: none;\n",
              "      border-radius: 50%;\n",
              "      cursor: pointer;\n",
              "      display: none;\n",
              "      fill: #1967D2;\n",
              "      height: 32px;\n",
              "      padding: 0 0 0 0;\n",
              "      width: 32px;\n",
              "    }\n",
              "\n",
              "    .colab-df-convert:hover {\n",
              "      background-color: #E2EBFA;\n",
              "      box-shadow: 0px 1px 2px rgba(60, 64, 67, 0.3), 0px 1px 3px 1px rgba(60, 64, 67, 0.15);\n",
              "      fill: #174EA6;\n",
              "    }\n",
              "\n",
              "    [theme=dark] .colab-df-convert {\n",
              "      background-color: #3B4455;\n",
              "      fill: #D2E3FC;\n",
              "    }\n",
              "\n",
              "    [theme=dark] .colab-df-convert:hover {\n",
              "      background-color: #434B5C;\n",
              "      box-shadow: 0px 1px 3px 1px rgba(0, 0, 0, 0.15);\n",
              "      filter: drop-shadow(0px 1px 2px rgba(0, 0, 0, 0.3));\n",
              "      fill: #FFFFFF;\n",
              "    }\n",
              "  </style>\n",
              "\n",
              "      <script>\n",
              "        const buttonEl =\n",
              "          document.querySelector('#df-80c61844-1f6c-42ae-a772-77b2c55a28ca button.colab-df-convert');\n",
              "        buttonEl.style.display =\n",
              "          google.colab.kernel.accessAllowed ? 'block' : 'none';\n",
              "\n",
              "        async function convertToInteractive(key) {\n",
              "          const element = document.querySelector('#df-80c61844-1f6c-42ae-a772-77b2c55a28ca');\n",
              "          const dataTable =\n",
              "            await google.colab.kernel.invokeFunction('convertToInteractive',\n",
              "                                                     [key], {});\n",
              "          if (!dataTable) return;\n",
              "\n",
              "          const docLinkHtml = 'Like what you see? Visit the ' +\n",
              "            '<a target=\"_blank\" href=https://colab.research.google.com/notebooks/data_table.ipynb>data table notebook</a>'\n",
              "            + ' to learn more about interactive tables.';\n",
              "          element.innerHTML = '';\n",
              "          dataTable['output_type'] = 'display_data';\n",
              "          await google.colab.output.renderOutput(dataTable, element);\n",
              "          const docLink = document.createElement('div');\n",
              "          docLink.innerHTML = docLinkHtml;\n",
              "          element.appendChild(docLink);\n",
              "        }\n",
              "      </script>\n",
              "    </div>\n",
              "  </div>\n",
              "  "
            ]
          },
          "metadata": {},
          "execution_count": 15
        }
      ]
    },
    {
      "cell_type": "code",
      "source": [
        "#check for missing values and what data types are in each column\n",
        "Boston_housing_df.info()"
      ],
      "metadata": {
        "colab": {
          "base_uri": "https://localhost:8080/"
        },
        "id": "5JXQ8Vy9-84S",
        "outputId": "fb549d69-79d4-45e3-cee0-3f6640a42d41"
      },
      "execution_count": 16,
      "outputs": [
        {
          "output_type": "stream",
          "name": "stdout",
          "text": [
            "<class 'pandas.core.frame.DataFrame'>\n",
            "RangeIndex: 506 entries, 0 to 505\n",
            "Data columns (total 7 columns):\n",
            " #   Column   Non-Null Count  Dtype  \n",
            "---  ------   --------------  -----  \n",
            " 0   CRIM     506 non-null    float64\n",
            " 1   NOX      506 non-null    float64\n",
            " 2   RM       506 non-null    float64\n",
            " 3   AGE      506 non-null    float64\n",
            " 4   PTRATIO  506 non-null    float64\n",
            " 5   LSTAT    506 non-null    float64\n",
            " 6   PRICE    506 non-null    float64\n",
            "dtypes: float64(7)\n",
            "memory usage: 27.8 KB\n"
          ]
        }
      ]
    },
    {
      "cell_type": "code",
      "source": [
        "#check for duplicates\n",
        "Boston_housing_df.duplicated().sum()"
      ],
      "metadata": {
        "colab": {
          "base_uri": "https://localhost:8080/"
        },
        "id": "E43LYyB0_mzU",
        "outputId": "82028bbb-6b8c-433f-f297-64d67e1ba162"
      },
      "execution_count": 17,
      "outputs": [
        {
          "output_type": "execute_result",
          "data": {
            "text/plain": [
              "0"
            ]
          },
          "metadata": {},
          "execution_count": 17
        }
      ]
    },
    {
      "cell_type": "markdown",
      "source": [
        "Bagged Trees"
      ],
      "metadata": {
        "id": "oGsRXr3GVdoM"
      }
    },
    {
      "cell_type": "code",
      "source": [
        "#selecting features matrix and target vector\n",
        "y = Boston_housing_df[\"PRICE\"]\n",
        "X = Boston_housing_df.drop([\"PRICE\", \"AGE\", \"CRIM\", \"NOX\"], axis = 1)\n",
        "\n",
        "#splitting data for validation\n",
        "X_train, X_test, y_train, y_test = train_test_split(X, y, random_state = 42)\n",
        "\n",
        "#instantiating Model\n",
        "bagreg = BaggingRegressor(random_state = 42)"
      ],
      "metadata": {
        "id": "Sk1ymsyePYLy"
      },
      "execution_count": 18,
      "outputs": []
    },
    {
      "cell_type": "code",
      "source": [
        "#looking at hyperparameters\n",
        "bagreg.get_params"
      ],
      "metadata": {
        "colab": {
          "base_uri": "https://localhost:8080/"
        },
        "id": "ctcGDEtXS0TS",
        "outputId": "b0232abc-1d2a-4f64-9b47-92616ebc0d9e"
      },
      "execution_count": 20,
      "outputs": [
        {
          "output_type": "execute_result",
          "data": {
            "text/plain": [
              "<bound method BaseEstimator.get_params of BaggingRegressor(random_state=42)>"
            ]
          },
          "metadata": {},
          "execution_count": 20
        }
      ]
    },
    {
      "cell_type": "code",
      "source": [
        "#fit model\n",
        "bagreg.fit(X_train, y_train)\n",
        "\n",
        "#predicting values for y\n",
        "bagreg.predict(X_test)"
      ],
      "metadata": {
        "colab": {
          "base_uri": "https://localhost:8080/"
        },
        "id": "ou0cQ7-VS7YW",
        "outputId": "0be36ae1-7ff3-42dd-ff31-781231232d43"
      },
      "execution_count": 25,
      "outputs": [
        {
          "output_type": "execute_result",
          "data": {
            "text/plain": [
              "array([22.52, 31.02, 18.14, 23.9 , 15.36, 21.42, 20.42, 13.29, 21.32,\n",
              "       21.63, 21.8 , 17.69, 11.62, 21.42, 17.49, 27.76, 20.98,  8.85,\n",
              "       48.46, 15.96, 23.33, 23.29, 12.59, 23.6 , 14.82, 14.69, 29.52,\n",
              "       15.85, 19.39, 20.68, 19.87, 22.83, 29.45, 20.41, 11.5 , 17.66,\n",
              "       34.56, 29.42, 18.27, 23.53, 17.87, 28.08, 48.46, 23.51, 25.32,\n",
              "       13.98, 16.03, 23.04, 15.34, 29.22, 22.56, 35.91, 18.86, 25.95,\n",
              "       42.  , 21.44, 14.73, 30.04, 24.33, 19.85, 26.81, 35.22, 28.25,\n",
              "       19.51, 25.13, 19.62, 15.4 , 23.07, 25.96, 22.38, 20.36, 26.12,\n",
              "       10.13, 21.79, 21.26,  8.03, 21.54, 49.54, 12.94, 11.96, 23.58,\n",
              "        8.34, 30.13,  8.84, 20.45, 26.37, 13.47, 23.45, 23.35, 16.84,\n",
              "       22.15,  7.9 , 19.79, 20.92, 38.25, 19.51, 21.94, 10.19, 15.27,\n",
              "       13.31, 19.51, 25.61, 12.  , 26.44, 18.96, 11.67, 19.35, 26.02,\n",
              "       18.18, 23.25,  6.16, 13.  , 22.34, 21.98, 34.87, 14.49, 42.32,\n",
              "       15.6 , 17.75, 24.05, 23.55, 24.45,  9.17, 20.82, 23.22, 19.44,\n",
              "       24.36])"
            ]
          },
          "metadata": {},
          "execution_count": 25
        }
      ]
    },
    {
      "cell_type": "code",
      "source": [
        "#evaluate model performance\n",
        "bagreg_train_score = bagreg.score(X_train, y_train)\n",
        "bagreg_test_score = bagreg.score(X_test, y_test)\n",
        "print(bagreg_train_score)\n",
        "print(bagreg_test_score)"
      ],
      "metadata": {
        "colab": {
          "base_uri": "https://localhost:8080/"
        },
        "id": "fr9xQs9qT3J2",
        "outputId": "91122b0a-2cdb-4371-8c85-08ce65a5e507"
      },
      "execution_count": 24,
      "outputs": [
        {
          "output_type": "stream",
          "name": "stdout",
          "text": [
            "0.9589474812896627\n",
            "0.6810228787398808\n"
          ]
        }
      ]
    },
    {
      "cell_type": "markdown",
      "source": [
        "Random Forest Regression"
      ],
      "metadata": {
        "id": "7TH2H9pmVaNG"
      }
    },
    {
      "cell_type": "code",
      "source": [
        "#instantiating model\n",
        "rf = RandomForestRegressor(random_state= 42)\n",
        "\n",
        "#looking at hyperparameters \n",
        "rf.get_params()"
      ],
      "metadata": {
        "colab": {
          "base_uri": "https://localhost:8080/"
        },
        "id": "AzO2iuM4UYlr",
        "outputId": "23d9aea7-fca2-45c1-d0e5-0d076f079ab4"
      },
      "execution_count": 29,
      "outputs": [
        {
          "output_type": "execute_result",
          "data": {
            "text/plain": [
              "{'bootstrap': True,\n",
              " 'ccp_alpha': 0.0,\n",
              " 'criterion': 'squared_error',\n",
              " 'max_depth': None,\n",
              " 'max_features': 'auto',\n",
              " 'max_leaf_nodes': None,\n",
              " 'max_samples': None,\n",
              " 'min_impurity_decrease': 0.0,\n",
              " 'min_samples_leaf': 1,\n",
              " 'min_samples_split': 2,\n",
              " 'min_weight_fraction_leaf': 0.0,\n",
              " 'n_estimators': 100,\n",
              " 'n_jobs': None,\n",
              " 'oob_score': False,\n",
              " 'random_state': 42,\n",
              " 'verbose': 0,\n",
              " 'warm_start': False}"
            ]
          },
          "metadata": {},
          "execution_count": 29
        }
      ]
    },
    {
      "cell_type": "code",
      "source": [
        "#fit model\n",
        "rf.fit(X_train, y_train)\n",
        "\n",
        "#predict values for y\n",
        "rf.predict(X_test)"
      ],
      "metadata": {
        "colab": {
          "base_uri": "https://localhost:8080/"
        },
        "id": "iBNKfqVIV9k1",
        "outputId": "a373772c-4ba2-400d-95b4-b6d1ba161b0b"
      },
      "execution_count": 31,
      "outputs": [
        {
          "output_type": "execute_result",
          "data": {
            "text/plain": [
              "array([22.219, 31.851, 17.69 , 24.189, 14.647, 20.756, 19.719, 12.907,\n",
              "       21.452, 21.719, 19.915, 19.218, 12.467, 21.029, 17.591, 25.501,\n",
              "       20.927,  8.507, 47.621, 15.667, 23.822, 23.375, 12.003, 22.383,\n",
              "       14.924, 15.505, 30.201, 15.621, 20.092, 20.822, 18.988, 23.251,\n",
              "       27.037, 20.978, 11.55 , 17.275, 35.818, 22.98 , 19.644, 23.389,\n",
              "       18.256, 28.057, 46.257, 23.27 , 24.541, 15.265, 16.068, 23.248,\n",
              "       14.938, 29.483, 23.002, 35.318, 18.85 , 26.457, 44.175, 20.827,\n",
              "       14.759, 32.364, 22.971, 20.536, 26.187, 34.437, 30.741, 19.252,\n",
              "       27.195, 18.911, 15.161, 23.3  , 26.385, 20.66 , 21.089, 26.597,\n",
              "       10.559, 23.233, 21.56 ,  7.754, 20.829, 48.825, 12.774, 11.453,\n",
              "       23.502,  8.045, 30.079,  8.865, 21.233, 26.43 , 14.145, 23.257,\n",
              "       23.57 , 17.255, 21.463,  7.923, 19.149, 20.948, 28.907, 19.033,\n",
              "       23.   , 11.469, 15.128, 12.923, 20.682, 29.342, 11.327, 22.534,\n",
              "       20.946, 11.626, 17.924, 25.366, 20.643, 23.57 ,  7.108, 13.181,\n",
              "       22.863, 22.117, 34.489, 15.437, 42.769, 15.644, 17.726, 23.79 ,\n",
              "       22.824, 23.442, 10.747, 21.059, 23.579, 21.103, 23.998])"
            ]
          },
          "metadata": {},
          "execution_count": 31
        }
      ]
    },
    {
      "cell_type": "code",
      "source": [
        "#evaluate model performance\n",
        "rf_train_score = rf.score(X_train, y_train)\n",
        "rf_test_score = rf.score(X_test, y_test)\n",
        "\n",
        "print(rf_train_score)\n",
        "print(rf_test_score)"
      ],
      "metadata": {
        "colab": {
          "base_uri": "https://localhost:8080/"
        },
        "id": "Mq-ArRyBWXO_",
        "outputId": "24fa73fa-b499-4a9b-9039-30307b6a1253"
      },
      "execution_count": 32,
      "outputs": [
        {
          "output_type": "stream",
          "name": "stdout",
          "text": [
            "0.9728543493496158\n",
            "0.7185553579730205\n"
          ]
        }
      ]
    },
    {
      "cell_type": "code",
      "source": [
        "[estimator.get_depth() for estimator in rf.estimators_]"
      ],
      "metadata": {
        "colab": {
          "base_uri": "https://localhost:8080/"
        },
        "id": "4pBHCPmNXf8R",
        "outputId": "fe0f122f-77aa-4d18-a155-4445da06122e"
      },
      "execution_count": 38,
      "outputs": [
        {
          "output_type": "execute_result",
          "data": {
            "text/plain": [
              "[16,\n",
              " 17,\n",
              " 19,\n",
              " 17,\n",
              " 16,\n",
              " 17,\n",
              " 19,\n",
              " 20,\n",
              " 15,\n",
              " 16,\n",
              " 17,\n",
              " 19,\n",
              " 20,\n",
              " 15,\n",
              " 18,\n",
              " 19,\n",
              " 17,\n",
              " 17,\n",
              " 18,\n",
              " 19,\n",
              " 17,\n",
              " 17,\n",
              " 18,\n",
              " 19,\n",
              " 17,\n",
              " 18,\n",
              " 17,\n",
              " 15,\n",
              " 18,\n",
              " 18,\n",
              " 17,\n",
              " 17,\n",
              " 17,\n",
              " 17,\n",
              " 19,\n",
              " 18,\n",
              " 20,\n",
              " 16,\n",
              " 20,\n",
              " 18,\n",
              " 15,\n",
              " 16,\n",
              " 18,\n",
              " 14,\n",
              " 18,\n",
              " 17,\n",
              " 17,\n",
              " 21,\n",
              " 21,\n",
              " 19,\n",
              " 18,\n",
              " 17,\n",
              " 19,\n",
              " 21,\n",
              " 17,\n",
              " 18,\n",
              " 21,\n",
              " 16,\n",
              " 17,\n",
              " 16,\n",
              " 22,\n",
              " 15,\n",
              " 19,\n",
              " 19,\n",
              " 16,\n",
              " 18,\n",
              " 18,\n",
              " 15,\n",
              " 15,\n",
              " 22,\n",
              " 18,\n",
              " 21,\n",
              " 18,\n",
              " 16,\n",
              " 19,\n",
              " 18,\n",
              " 17,\n",
              " 17,\n",
              " 16,\n",
              " 16,\n",
              " 16,\n",
              " 16,\n",
              " 18,\n",
              " 20,\n",
              " 18,\n",
              " 19,\n",
              " 17,\n",
              " 16,\n",
              " 20,\n",
              " 16,\n",
              " 18,\n",
              " 16,\n",
              " 17,\n",
              " 20,\n",
              " 18,\n",
              " 17,\n",
              " 19,\n",
              " 18,\n",
              " 17,\n",
              " 20]"
            ]
          },
          "metadata": {},
          "execution_count": 38
        }
      ]
    },
    {
      "cell_type": "code",
      "source": [
        "#tuning max_depth\n",
        "rf_22 = RandomForestRegressor(max_depth=22, random_state = 42)\n",
        "rf_22.fit(X_train, y_train)\n",
        "rf_22_train_score = rf_22.score(X_train, y_train)\n",
        "rf_22_test_score = rf_22.score(X_test, y_test)\n",
        "\n",
        "print(rf_22_train_score)\n",
        "print(rf_22_test_score)"
      ],
      "metadata": {
        "colab": {
          "base_uri": "https://localhost:8080/"
        },
        "id": "2guXSC6BW0LT",
        "outputId": "7a9c7bf5-61de-4bdd-e4ec-e0684de34260"
      },
      "execution_count": 39,
      "outputs": [
        {
          "output_type": "stream",
          "name": "stdout",
          "text": [
            "0.9728543493496158\n",
            "0.7185553579730205\n"
          ]
        }
      ]
    }
  ]
}