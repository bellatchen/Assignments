{
  "nbformat": 4,
  "nbformat_minor": 0,
  "metadata": {
    "colab": {
      "name": "Histograms and Boxplots-Revised.ipynb",
      "provenance": [],
      "mount_file_id": "1OgUakbaF8RxjVQe61vz2Km1W3DwMW0_F",
      "authorship_tag": "ABX9TyMzlP1I938kpFu05JMyk5QG",
      "include_colab_link": true
    },
    "kernelspec": {
      "name": "python3",
      "display_name": "Python 3"
    },
    "language_info": {
      "name": "python"
    }
  },
  "cells": [
    {
      "cell_type": "markdown",
      "metadata": {
        "id": "view-in-github",
        "colab_type": "text"
      },
      "source": [
        "<a href=\"https://colab.research.google.com/github/bellatchen/Assignments/blob/main/Histograms_and_Boxplots_Revised.ipynb\" target=\"_parent\"><img src=\"https://colab.research.google.com/assets/colab-badge.svg\" alt=\"Open In Colab\"/></a>"
      ]
    },
    {
      "cell_type": "markdown",
      "source": [
        "Bella Chen"
      ],
      "metadata": {
        "id": "_0E9bMSm7NbK"
      }
    },
    {
      "cell_type": "markdown",
      "source": [
        "1. Plot a histogram of the Percentage of Dog Owners.\n",
        "\n",
        "2. Plot a histogram of the Percentage of Cat Owners.\n",
        "\n",
        "3a. What can we see by comparing these two histograms? What information does this tell us?\n",
        "\n",
        "3b. Optional/Bonus: plot these two histograms on the same plot. \n",
        "\n",
        "4. Create two boxplots on the same plot: one of the mean number of cats per household and the other of the mean number of dogs. \n",
        "\n",
        "5. What can we see by comparing these two boxplots? What information does this tell us?"
      ],
      "metadata": {
        "id": "VSysaTo87Zb-"
      }
    },
    {
      "cell_type": "code",
      "source": [
        "#import libraries\n",
        "import matplotlib.pyplot as plt\n",
        "import seaborn as sns\n",
        "import numpy as np\n",
        "import pandas as pd"
      ],
      "metadata": {
        "id": "F0NXT4Ir9DP9"
      },
      "execution_count": 13,
      "outputs": []
    },
    {
      "cell_type": "code",
      "execution_count": 70,
      "metadata": {
        "id": "UumSxOo062WF"
      },
      "outputs": [],
      "source": [
        "#mount and load data\n",
        "cats_dogs = \"/content/drive/MyDrive/Coding Dojo/Data Sets/catsvdogs.xlsx\"\n",
        "cats_dogs_df = pd.read_excel(cats_dogs)\n",
        "cats_dogs_df.head()\n",
        "cats_dogs_mean_num = pd.read_excel(cats_dogs)"
      ]
    },
    {
      "cell_type": "code",
      "source": [
        "#check for duplicates\n",
        "cats_dogs_df.duplicated().sum()"
      ],
      "metadata": {
        "colab": {
          "base_uri": "https://localhost:8080/"
        },
        "id": "T8PSzVfH9Fe6",
        "outputId": "08306852-d649-45b3-c957-bfdbe4c64a56"
      },
      "execution_count": 15,
      "outputs": [
        {
          "output_type": "execute_result",
          "data": {
            "text/plain": [
              "0"
            ]
          },
          "metadata": {},
          "execution_count": 15
        }
      ]
    },
    {
      "cell_type": "code",
      "source": [
        "#check for missing data\n",
        "cats_dogs_df.info()"
      ],
      "metadata": {
        "colab": {
          "base_uri": "https://localhost:8080/"
        },
        "id": "pDT9yOUC-_Qe",
        "outputId": "2042a04c-8a04-4db0-ff71-6ec6492d0874"
      },
      "execution_count": 16,
      "outputs": [
        {
          "output_type": "stream",
          "name": "stdout",
          "text": [
            "<class 'pandas.core.frame.DataFrame'>\n",
            "RangeIndex: 49 entries, 0 to 48\n",
            "Data columns (total 12 columns):\n",
            " #   Column                              Non-Null Count  Dtype  \n",
            "---  ------                              --------------  -----  \n",
            " 0   Location                            49 non-null     object \n",
            " 1   Number of Households (in 1000)      49 non-null     int64  \n",
            " 2   Percentage of households with pets  49 non-null     float64\n",
            " 3   Number of Pet Households (in 1000)  49 non-null     int64  \n",
            " 4   Percentage of Dog Owners            49 non-null     float64\n",
            " 5   Dog Owning Households (1000s)       49 non-null     int64  \n",
            " 6   Mean Number of Dogs per household   49 non-null     float64\n",
            " 7   Dog Population (in 1000)            49 non-null     int64  \n",
            " 8   Percentage of Cat Owners            49 non-null     float64\n",
            " 9   Cat Owning Households               49 non-null     int64  \n",
            " 10  Mean Number of Cats                 49 non-null     float64\n",
            " 11  Cat Population                      49 non-null     int64  \n",
            "dtypes: float64(5), int64(6), object(1)\n",
            "memory usage: 4.7+ KB\n"
          ]
        }
      ]
    },
    {
      "cell_type": "code",
      "source": [
        "#1 - histogram of percentage of dog owners\n",
        "cats_dogs_df[\"Percentage of Dog Owners\"].hist(bins=\"auto\")\n",
        "plt.title(\"Percentage of dog owners\")\n",
        "plt.xlabel(\"Percentage\")\n",
        "plt.ylabel(\"Number of States\")\n",
        "# Looked up labels on https://www.w3schools.com/python/matplotlib_labels.asp"
      ],
      "metadata": {
        "colab": {
          "base_uri": "https://localhost:8080/",
          "height": 313
        },
        "id": "_oh7FVpI_No-",
        "outputId": "edabb9a5-03d6-45a4-ed77-a7a513d96724"
      },
      "execution_count": 17,
      "outputs": [
        {
          "output_type": "execute_result",
          "data": {
            "text/plain": [
              "Text(0, 0.5, 'Number of States')"
            ]
          },
          "metadata": {},
          "execution_count": 17
        },
        {
          "output_type": "display_data",
          "data": {
            "text/plain": [
              "<Figure size 432x288 with 1 Axes>"
            ],
            "image/png": "[encoded data removed]"
          },
          "metadata": {
            "needs_background": "light"
          }
        }
      ]
    },
    {
      "cell_type": "code",
      "source": [
        "#2 - histogram of percentage of cat owners\n",
        "cats_dogs_df[\"Percentage of Cat Owners\"].hist(bins=\"auto\")\n",
        "plt.title(\"Percentage of Cat Owners\")\n",
        "plt.xlabel(\"Percentage\")\n",
        "plt.ylabel(\"Number of States\")"
      ],
      "metadata": {
        "colab": {
          "base_uri": "https://localhost:8080/",
          "height": 313
        },
        "id": "N_V8HHPi_wJ7",
        "outputId": "f9026ddf-b3da-400d-de1f-607acf6510a4"
      },
      "execution_count": 18,
      "outputs": [
        {
          "output_type": "execute_result",
          "data": {
            "text/plain": [
              "Text(0, 0.5, 'Number of States')"
            ]
          },
          "metadata": {},
          "execution_count": 18
        },
        {
          "output_type": "display_data",
          "data": {
            "text/plain": [
              "<Figure size 432x288 with 1 Axes>"
            ],
            "image/png": "[encoded data removed]"
          },
          "metadata": {
            "needs_background": "light"
          }
        }
      ]
    },
    {
      "cell_type": "markdown",
      "source": [
        "#3a - analyze these histograms\n",
        "There are many pet owners throughout the United States. There are 48 states where there is at least 25% to 45% dog ownership and 46 states where cat ownership is between 25% and 40%, with 2 states where cat ownership is roughly 46-48%. There are also more states where cat ownership is between 27% and 34% than dog ownership. "
      ],
      "metadata": {
        "id": "ZdUkX9UaT_nk"
      }
    },
    {
      "cell_type": "code",
      "source": [
        "#3b - BONUS - plot both histograms on same plot"
      ],
      "metadata": {
        "id": "EDlFMH1O_8Sv"
      },
      "execution_count": null,
      "outputs": []
    },
    {
      "cell_type": "code",
      "source": [
        "#putting both histograms on one plot\n",
        "sns.histplot(data=cats_dogs_df, x=\"Percentage of Cat Owners\", color=\"Orange\", label=\"Percentage of Cat Owners\", kde=True)\n",
        "sns.histplot(data=cats_dogs_df, x=\"Percentage of Dog Owners\", color=\"skyblue\", label=\"Percentage of Dog Owners\", kde=True)\n",
        "\n",
        "plt.legend()\n",
        "plt.show()\n",
        "#code adapted from https://python-graph-gallery.com/25-histogram-with-several-variables-seaborn"
      ],
      "metadata": {
        "id": "HGcR9TIF_yv0",
        "colab": {
          "base_uri": "https://localhost:8080/",
          "height": 279
        },
        "outputId": "c978a9e8-c496-4034-bd0b-77e407e1549e"
      },
      "execution_count": 39,
      "outputs": [
        {
          "output_type": "display_data",
          "data": {
            "text/plain": [
              "<Figure size 432x288 with 1 Axes>"
            ],
            "image/png": "[encoded data removed]"
          },
          "metadata": {
            "needs_background": "light"
          }
        }
      ]
    },
    {
      "cell_type": "code",
      "source": [
        "#4 - 2 boxplots on same plot (1 for mean # of cats per house hold and the same for dogs)\n",
        "#creating new df that only has Mean Number of Dogs and Mean Number of Cats\n",
        "cats_dogs_mean_num_df = cats_dogs_mean_num [[\"Mean Number of Dogs per household\",\"Mean Number of Cats\"]]\n",
        "\n",
        "#melting the data so it is returned in 2 columns, with x = \"variable\" and y = \"value\"; variable is name of column in mentioned df\n",
        "cats_dogs_mean_num_melted=pd.melt(cats_dogs_mean_num_df)\n",
        "\n",
        "#using seaborn\n",
        "sns.boxplot(x= 'variable', y='value', data=cats_dogs_mean_num_melted)\n",
        "\n",
        "#axis labels\n",
        "plt.xlabel(\"Mean Number of Animals\")\n",
        "plt.ylabel(\"Mean\")\n",
        "\n",
        "#code adapted from https://www.statology.org/seaborn-boxplot-multiple-columns/"
      ],
      "metadata": {
        "colab": {
          "base_uri": "https://localhost:8080/",
          "height": 297
        },
        "id": "qKcXvhF5QfrG",
        "outputId": "cafc9bd0-aa76-44e0-ed58-ceffe5778b0e"
      },
      "execution_count": 86,
      "outputs": [
        {
          "output_type": "execute_result",
          "data": {
            "text/plain": [
              "Text(0, 0.5, 'Mean')"
            ]
          },
          "metadata": {},
          "execution_count": 86
        },
        {
          "output_type": "display_data",
          "data": {
            "text/plain": [
              "<Figure size 432x288 with 1 Axes>"
            ],
            "image/png": "[encoded data removed]"
          },
          "metadata": {
            "needs_background": "light"
          }
        }
      ]
    },
    {
      "cell_type": "code",
      "source": [
        "#check stats for mean # of cats\n",
        "cats_dogs_df[\"Mean Number of Cats\"].describe()"
      ],
      "metadata": {
        "colab": {
          "base_uri": "https://localhost:8080/"
        },
        "id": "s4fqiAiTABTl",
        "outputId": "49ceaeee-6c48-4ffc-89e2-3667ccad5876"
      },
      "execution_count": 24,
      "outputs": [
        {
          "output_type": "execute_result",
          "data": {
            "text/plain": [
              "count    49.000000\n",
              "mean      2.040816\n",
              "std       0.191397\n",
              "min       1.700000\n",
              "25%       1.900000\n",
              "50%       2.000000\n",
              "75%       2.200000\n",
              "max       2.600000\n",
              "Name: Mean Number of Cats, dtype: float64"
            ]
          },
          "metadata": {},
          "execution_count": 24
        }
      ]
    },
    {
      "cell_type": "code",
      "source": [
        "#check stats for mean # of Dogs per Household\n",
        "cats_dogs_df[\"Mean Number of Dogs per household\"].describe()"
      ],
      "metadata": {
        "colab": {
          "base_uri": "https://localhost:8080/"
        },
        "id": "kIo16q2jGUSw",
        "outputId": "737472bd-f79c-4c09-af2d-c032450a7d31"
      },
      "execution_count": 23,
      "outputs": [
        {
          "output_type": "execute_result",
          "data": {
            "text/plain": [
              "count    49.000000\n",
              "mean      1.587755\n",
              "std       0.202724\n",
              "min       1.100000\n",
              "25%       1.400000\n",
              "50%       1.600000\n",
              "75%       1.700000\n",
              "max       2.100000\n",
              "Name: Mean Number of Dogs per household, dtype: float64"
            ]
          },
          "metadata": {},
          "execution_count": 23
        }
      ]
    },
    {
      "cell_type": "code",
      "source": [
        "#boxplots\n",
        "cats_dogs_df[\"Mean Number of Cats\"].plot(kind='box')\n",
        "plt.title(\"Distribution of Mean Number of Cats\", fontsize=15)\n",
        "plt.ylabel(\"Mean\",fontsize=10)"
      ],
      "metadata": {
        "colab": {
          "base_uri": "https://localhost:8080/",
          "height": 301
        },
        "id": "brJNwEKfGacx",
        "outputId": "80a4e0e7-6a37-4d38-874b-1045a1d6da15"
      },
      "execution_count": 83,
      "outputs": [
        {
          "output_type": "execute_result",
          "data": {
            "text/plain": [
              "Text(0, 0.5, 'Mean')"
            ]
          },
          "metadata": {},
          "execution_count": 83
        },
        {
          "output_type": "display_data",
          "data": {
            "text/plain": [
              "<Figure size 432x288 with 1 Axes>"
            ],
            "image/png": "[encoded data removed]"
          },
          "metadata": {
            "needs_background": "light"
          }
        }
      ]
    },
    {
      "cell_type": "code",
      "source": [
        "#5 - analyze the boxplots"
      ],
      "metadata": {
        "id": "949wVR_fAPLF"
      },
      "execution_count": null,
      "outputs": []
    },
    {
      "cell_type": "markdown",
      "source": [
        "By putting the two boxplots on the same plot, it makes it easier to see the data for both types of pets and where they are in relation to each other. Generally, the mean number of cats is higher than the mean number of dogs per household. 25% of cat owners have up to 1.9 cats, while 75% of dog owners have up to 1.7 dogs, with 50% of cat owners having 2 cats, and 50% of dog owners having less than 2 dogs. It seems more likely for households with cats to have more than one cat, while households with dogs tend to only have one dog."
      ],
      "metadata": {
        "id": "q95SN22JhLn1"
      }
    },
    {
      "cell_type": "code",
      "source": [
        ""
      ],
      "metadata": {
        "id": "_GMzhgs2jwlA"
      },
      "execution_count": null,
      "outputs": []
    }
  ]
}