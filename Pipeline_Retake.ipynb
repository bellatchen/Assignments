{
  "nbformat": 4,
  "nbformat_minor": 0,
  "metadata": {
    "colab": {
      "name": "Pipeline - Retake.ipynb",
      "provenance": [],
      "mount_file_id": "1MFmAZ5_8N2p3cwXiqyO1jVe4YpLb9e0g",
      "authorship_tag": "ABX9TyPAE6JkTL3IK6q7rBDy8Bsa",
      "include_colab_link": true
    },
    "kernelspec": {
      "name": "python3",
      "display_name": "Python 3"
    },
    "language_info": {
      "name": "python"
    }
  },
  "cells": [
    {
      "cell_type": "markdown",
      "metadata": {
        "id": "view-in-github",
        "colab_type": "text"
      },
      "source": [
        "<a href=\"https://colab.research.google.com/github/bellatchen/Assignments/blob/main/Pipeline_Retake.ipynb\" target=\"_parent\"><img src=\"https://colab.research.google.com/assets/colab-badge.svg\" alt=\"Open In Colab\"/></a>"
      ]
    },
    {
      "cell_type": "markdown",
      "source": [
        "Bella Chen 5/17/2022"
      ],
      "metadata": {
        "id": "Viwz-2eMOZsi"
      }
    },
    {
      "cell_type": "code",
      "execution_count": 1,
      "metadata": {
        "id": "WQqB6v9oOBf3"
      },
      "outputs": [],
      "source": [
        "#imports\n",
        "import numpy as np\n",
        "import pandas as pd\n",
        " \n",
        "from sklearn.model_selection import train_test_split\n",
        "from sklearn.compose import make_column_transformer, make_column_selector\n",
        "from sklearn.preprocessing import StandardScaler, OneHotEncoder\n",
        "from sklearn.impute import SimpleImputer\n",
        "from sklearn.pipeline import make_pipeline\n",
        "from sklearn import set_config\n",
        "set_config(display=\"diagram\")"
      ]
    },
    {
      "cell_type": "code",
      "source": [
        "#mounting data\n",
        "cereal = \"/content/drive/MyDrive/Coding Dojo/Data Sets/Cereal with missing values.xlsx\"\n",
        "cereal_df_og = pd.read_excel(cereal)\n",
        "cereal_df_og.head()"
      ],
      "metadata": {
        "colab": {
          "base_uri": "https://localhost:8080/",
          "height": 409
        },
        "id": "i8tnH0FbRXA0",
        "outputId": "bbf89676-a68b-43b9-d40b-9a5f4153a845"
      },
      "execution_count": 2,
      "outputs": [
        {
          "output_type": "execute_result",
          "data": {
            "text/plain": [
              "                      name   Manufacturer  type  calories per serving  \\\n",
              "0  Apple Cinnamon Cheerios  General Mills  Cold                 110.0   \n",
              "1                  Basic 4  General Mills  Cold                 130.0   \n",
              "2                 Cheerios  General Mills  Cold                   NaN   \n",
              "3    Cinnamon Toast Crunch  General Mills  Cold                 120.0   \n",
              "4                 Clusters  General Mills  Cold                 110.0   \n",
              "\n",
              "   grams of protein  grams of fat  milligrams of sodium  \\\n",
              "0               2.0           2.0                 180.0   \n",
              "1               3.0           2.0                   NaN   \n",
              "2               6.0           2.0                 290.0   \n",
              "3               1.0           3.0                 210.0   \n",
              "4               3.0           2.0                 140.0   \n",
              "\n",
              "   grams of dietary fiber  grams of complex carbohydrates  grams of sugars  \\\n",
              "0                     1.5                            10.5             10.0   \n",
              "1                     2.0                            18.0              NaN   \n",
              "2                     2.0                            17.0              1.0   \n",
              "3                     0.0                            13.0              9.0   \n",
              "4                     2.0                            13.0              7.0   \n",
              "\n",
              "   milligrams of potassium  vitamins and minerals (% of FDA recommendation)  \\\n",
              "0                     70.0                                             25.0   \n",
              "1                    100.0                                             25.0   \n",
              "2                    105.0                                             25.0   \n",
              "3                     45.0                                             25.0   \n",
              "4                    105.0                                             25.0   \n",
              "\n",
              "   Display shelf  Weight in ounces per one serving  \\\n",
              "0            1.0                              1.00   \n",
              "1            3.0                              1.33   \n",
              "2            1.0                              1.00   \n",
              "3            2.0                              1.00   \n",
              "4            3.0                              1.00   \n",
              "\n",
              "   Number of cups in one serving  Rating of cereal  \n",
              "0                           0.75         29.509541  \n",
              "1                           0.75         37.038562  \n",
              "2                           1.25         50.764999  \n",
              "3                           0.75         19.823573  \n",
              "4                           0.50         40.400208  "
            ],
            "text/html": [
              "\n",
              "  <div id=\"df-f920c6c7-f143-4dce-832e-b6d83948c244\">\n",
              "    <div class=\"colab-df-container\">\n",
              "      <div>\n",
              "<style scoped>\n",
              "    .dataframe tbody tr th:only-of-type {\n",
              "        vertical-align: middle;\n",
              "    }\n",
              "\n",
              "    .dataframe tbody tr th {\n",
              "        vertical-align: top;\n",
              "    }\n",
              "\n",
              "    .dataframe thead th {\n",
              "        text-align: right;\n",
              "    }\n",
              "</style>\n",
              "<table border=\"1\" class=\"dataframe\">\n",
              "  <thead>\n",
              "    <tr style=\"text-align: right;\">\n",
              "      <th></th>\n",
              "      <th>name</th>\n",
              "      <th>Manufacturer</th>\n",
              "      <th>type</th>\n",
              "      <th>calories per serving</th>\n",
              "      <th>grams of protein</th>\n",
              "      <th>grams of fat</th>\n",
              "      <th>milligrams of sodium</th>\n",
              "      <th>grams of dietary fiber</th>\n",
              "      <th>grams of complex carbohydrates</th>\n",
              "      <th>grams of sugars</th>\n",
              "      <th>milligrams of potassium</th>\n",
              "      <th>vitamins and minerals (% of FDA recommendation)</th>\n",
              "      <th>Display shelf</th>\n",
              "      <th>Weight in ounces per one serving</th>\n",
              "      <th>Number of cups in one serving</th>\n",
              "      <th>Rating of cereal</th>\n",
              "    </tr>\n",
              "  </thead>\n",
              "  <tbody>\n",
              "    <tr>\n",
              "      <th>0</th>\n",
              "      <td>Apple Cinnamon Cheerios</td>\n",
              "      <td>General Mills</td>\n",
              "      <td>Cold</td>\n",
              "      <td>110.0</td>\n",
              "      <td>2.0</td>\n",
              "      <td>2.0</td>\n",
              "      <td>180.0</td>\n",
              "      <td>1.5</td>\n",
              "      <td>10.5</td>\n",
              "      <td>10.0</td>\n",
              "      <td>70.0</td>\n",
              "      <td>25.0</td>\n",
              "      <td>1.0</td>\n",
              "      <td>1.00</td>\n",
              "      <td>0.75</td>\n",
              "      <td>29.509541</td>\n",
              "    </tr>\n",
              "    <tr>\n",
              "      <th>1</th>\n",
              "      <td>Basic 4</td>\n",
              "      <td>General Mills</td>\n",
              "      <td>Cold</td>\n",
              "      <td>130.0</td>\n",
              "      <td>3.0</td>\n",
              "      <td>2.0</td>\n",
              "      <td>NaN</td>\n",
              "      <td>2.0</td>\n",
              "      <td>18.0</td>\n",
              "      <td>NaN</td>\n",
              "      <td>100.0</td>\n",
              "      <td>25.0</td>\n",
              "      <td>3.0</td>\n",
              "      <td>1.33</td>\n",
              "      <td>0.75</td>\n",
              "      <td>37.038562</td>\n",
              "    </tr>\n",
              "    <tr>\n",
              "      <th>2</th>\n",
              "      <td>Cheerios</td>\n",
              "      <td>General Mills</td>\n",
              "      <td>Cold</td>\n",
              "      <td>NaN</td>\n",
              "      <td>6.0</td>\n",
              "      <td>2.0</td>\n",
              "      <td>290.0</td>\n",
              "      <td>2.0</td>\n",
              "      <td>17.0</td>\n",
              "      <td>1.0</td>\n",
              "      <td>105.0</td>\n",
              "      <td>25.0</td>\n",
              "      <td>1.0</td>\n",
              "      <td>1.00</td>\n",
              "      <td>1.25</td>\n",
              "      <td>50.764999</td>\n",
              "    </tr>\n",
              "    <tr>\n",
              "      <th>3</th>\n",
              "      <td>Cinnamon Toast Crunch</td>\n",
              "      <td>General Mills</td>\n",
              "      <td>Cold</td>\n",
              "      <td>120.0</td>\n",
              "      <td>1.0</td>\n",
              "      <td>3.0</td>\n",
              "      <td>210.0</td>\n",
              "      <td>0.0</td>\n",
              "      <td>13.0</td>\n",
              "      <td>9.0</td>\n",
              "      <td>45.0</td>\n",
              "      <td>25.0</td>\n",
              "      <td>2.0</td>\n",
              "      <td>1.00</td>\n",
              "      <td>0.75</td>\n",
              "      <td>19.823573</td>\n",
              "    </tr>\n",
              "    <tr>\n",
              "      <th>4</th>\n",
              "      <td>Clusters</td>\n",
              "      <td>General Mills</td>\n",
              "      <td>Cold</td>\n",
              "      <td>110.0</td>\n",
              "      <td>3.0</td>\n",
              "      <td>2.0</td>\n",
              "      <td>140.0</td>\n",
              "      <td>2.0</td>\n",
              "      <td>13.0</td>\n",
              "      <td>7.0</td>\n",
              "      <td>105.0</td>\n",
              "      <td>25.0</td>\n",
              "      <td>3.0</td>\n",
              "      <td>1.00</td>\n",
              "      <td>0.50</td>\n",
              "      <td>40.400208</td>\n",
              "    </tr>\n",
              "  </tbody>\n",
              "</table>\n",
              "</div>\n",
              "      <button class=\"colab-df-convert\" onclick=\"convertToInteractive('df-f920c6c7-f143-4dce-832e-b6d83948c244')\"\n",
              "              title=\"Convert this dataframe to an interactive table.\"\n",
              "              style=\"display:none;\">\n",
              "        \n",
              "  <svg xmlns=\"http://www.w3.org/2000/svg\" height=\"24px\"viewBox=\"0 0 24 24\"\n",
              "       width=\"24px\">\n",
              "    <path d=\"M0 0h24v24H0V0z\" fill=\"none\"/>\n",
              "    <path d=\"M18.56 5.44l.94 2.06.94-2.06 2.06-.94-2.06-.94-.94-2.06-.94 2.06-2.06.94zm-11 1L8.5 8.5l.94-2.06 2.06-.94-2.06-.94L8.5 2.5l-.94 2.06-2.06.94zm10 10l.94 2.06.94-2.06 2.06-.94-2.06-.94-.94-2.06-.94 2.06-2.06.94z\"/><path d=\"M17.41 7.96l-1.37-1.37c-.4-.4-.92-.59-1.43-.59-.52 0-1.04.2-1.43.59L10.3 9.45l-7.72 7.72c-.78.78-.78 2.05 0 2.83L4 21.41c.39.39.9.59 1.41.59.51 0 1.02-.2 1.41-.59l7.78-7.78 2.81-2.81c.8-.78.8-2.07 0-2.86zM5.41 20L4 18.59l7.72-7.72 1.47 1.35L5.41 20z\"/>\n",
              "  </svg>\n",
              "      </button>\n",
              "      \n",
              "  <style>\n",
              "    .colab-df-container {\n",
              "      display:flex;\n",
              "      flex-wrap:wrap;\n",
              "      gap: 12px;\n",
              "    }\n",
              "\n",
              "    .colab-df-convert {\n",
              "      background-color: #E8F0FE;\n",
              "      border: none;\n",
              "      border-radius: 50%;\n",
              "      cursor: pointer;\n",
              "      display: none;\n",
              "      fill: #1967D2;\n",
              "      height: 32px;\n",
              "      padding: 0 0 0 0;\n",
              "      width: 32px;\n",
              "    }\n",
              "\n",
              "    .colab-df-convert:hover {\n",
              "      background-color: #E2EBFA;\n",
              "      box-shadow: 0px 1px 2px rgba(60, 64, 67, 0.3), 0px 1px 3px 1px rgba(60, 64, 67, 0.15);\n",
              "      fill: #174EA6;\n",
              "    }\n",
              "\n",
              "    [theme=dark] .colab-df-convert {\n",
              "      background-color: #3B4455;\n",
              "      fill: #D2E3FC;\n",
              "    }\n",
              "\n",
              "    [theme=dark] .colab-df-convert:hover {\n",
              "      background-color: #434B5C;\n",
              "      box-shadow: 0px 1px 3px 1px rgba(0, 0, 0, 0.15);\n",
              "      filter: drop-shadow(0px 1px 2px rgba(0, 0, 0, 0.3));\n",
              "      fill: #FFFFFF;\n",
              "    }\n",
              "  </style>\n",
              "\n",
              "      <script>\n",
              "        const buttonEl =\n",
              "          document.querySelector('#df-f920c6c7-f143-4dce-832e-b6d83948c244 button.colab-df-convert');\n",
              "        buttonEl.style.display =\n",
              "          google.colab.kernel.accessAllowed ? 'block' : 'none';\n",
              "\n",
              "        async function convertToInteractive(key) {\n",
              "          const element = document.querySelector('#df-f920c6c7-f143-4dce-832e-b6d83948c244');\n",
              "          const dataTable =\n",
              "            await google.colab.kernel.invokeFunction('convertToInteractive',\n",
              "                                                     [key], {});\n",
              "          if (!dataTable) return;\n",
              "\n",
              "          const docLinkHtml = 'Like what you see? Visit the ' +\n",
              "            '<a target=\"_blank\" href=https://colab.research.google.com/notebooks/data_table.ipynb>data table notebook</a>'\n",
              "            + ' to learn more about interactive tables.';\n",
              "          element.innerHTML = '';\n",
              "          dataTable['output_type'] = 'display_data';\n",
              "          await google.colab.output.renderOutput(dataTable, element);\n",
              "          const docLink = document.createElement('div');\n",
              "          docLink.innerHTML = docLinkHtml;\n",
              "          element.appendChild(docLink);\n",
              "        }\n",
              "      </script>\n",
              "    </div>\n",
              "  </div>\n",
              "  "
            ]
          },
          "metadata": {},
          "execution_count": 2
        }
      ]
    },
    {
      "cell_type": "code",
      "source": [
        "#check for duplicates\n",
        "cereal_df_og.duplicated().sum()"
      ],
      "metadata": {
        "colab": {
          "base_uri": "https://localhost:8080/"
        },
        "id": "3TTnF75GS_5Q",
        "outputId": "15dfd7bf-8040-4e92-b48f-61d46ca7c39b"
      },
      "execution_count": 3,
      "outputs": [
        {
          "output_type": "execute_result",
          "data": {
            "text/plain": [
              "0"
            ]
          },
          "metadata": {},
          "execution_count": 3
        }
      ]
    },
    {
      "cell_type": "code",
      "source": [
        "#check for missing values\n",
        "cereal_df_og.isna().sum()"
      ],
      "metadata": {
        "colab": {
          "base_uri": "https://localhost:8080/"
        },
        "id": "KeOsaNmgSB6G",
        "outputId": "d056e590-c0ad-40ed-813b-e9acd7b287d6"
      },
      "execution_count": 4,
      "outputs": [
        {
          "output_type": "execute_result",
          "data": {
            "text/plain": [
              "name                                               0\n",
              "Manufacturer                                       0\n",
              "type                                               9\n",
              "calories per serving                               7\n",
              "grams of protein                                   0\n",
              "grams of fat                                       8\n",
              "milligrams of sodium                               1\n",
              "grams of dietary fiber                             0\n",
              "grams of complex carbohydrates                     0\n",
              "grams of sugars                                    9\n",
              "milligrams of potassium                            0\n",
              "vitamins and minerals (% of FDA recommendation)    1\n",
              "Display shelf                                      0\n",
              "Weight in ounces per one serving                   0\n",
              "Number of cups in one serving                      0\n",
              "Rating of cereal                                   0\n",
              "dtype: int64"
            ]
          },
          "metadata": {},
          "execution_count": 4
        }
      ]
    },
    {
      "cell_type": "code",
      "source": [
        "#select X and y\n",
        "X = cereal_df_og.drop(columns = \"calories per serving\")\n",
        "y = cereal_df_og[\"calories per serving\"]\n",
        "\n",
        "#train test split\n",
        "X_train, X_test, y_train, y_test = train_test_split (X, y, random_state = 42)\n",
        "\n",
        "#verifying split\n",
        "len(X_train)"
      ],
      "metadata": {
        "colab": {
          "base_uri": "https://localhost:8080/"
        },
        "id": "GnRuBFo-TC0u",
        "outputId": "0479337c-2042-4676-b176-691ba98bf399"
      },
      "execution_count": 5,
      "outputs": [
        {
          "output_type": "execute_result",
          "data": {
            "text/plain": [
              "57"
            ]
          },
          "metadata": {},
          "execution_count": 5
        }
      ]
    },
    {
      "cell_type": "markdown",
      "source": [
        "Numerical - \n",
        "\n",
        "    a) calories per serving\n",
        "    b) grams of protein\n",
        "    c) grams of fat\n",
        "    d) milligrams of sodium\n",
        "    e) grams of dietary fiber\n",
        "    f) grams of complex carbohydrates\n",
        "    g) grams of sugars\n",
        "    h) milligrams of potassium \n",
        "    i) vitamins and minerals (% of FDA recommendation)\n",
        "    j) Display shelf\n",
        "    k) Weight in ounces per one serving \n",
        "    l) Number of cups in one serving\n",
        "\n",
        "\n",
        "Ordinal - \n",
        "\n",
        "    a) rating of cereal\n",
        "\n",
        "Nominal - \n",
        "    \n",
        "    a) name\n",
        "    b) Manufacturer\n",
        "    c) type"
      ],
      "metadata": {
        "id": "8SCdQTPTV__Y"
      }
    },
    {
      "cell_type": "markdown",
      "source": [
        "Use pipelines and column transformers to complete the following tasks:\n",
        "    \n",
        "    a) Impute any missing values. Use the ‘mean’ strategy for numeric columns and the ‘most_frequent’ strategy for categorical columns.\n",
        "    b) One-hot encode the nominal features.\n",
        "    c) Scale the numeric columns.\n",
        "    d) All preprocessing steps should be contained within a single preprocessing object.\n",
        "\n",
        "Use your preprocessing object to transform your data appropriately, avoiding data leakage, to make it ready for modeling. Show the resulting Numpy array."
      ],
      "metadata": {
        "id": "q81Aqs3ZQB8E"
      }
    },
    {
      "cell_type": "code",
      "source": [
        "#impute any missing values - \"mean\" for numeric columns and \"most frequent\" for categorical\n",
        "mean_imputer = SimpleImputer (strategy =\"mean\")\n",
        "most_frequent_imputer = SimpleImputer (strategy = \"most_frequent\")\n",
        "\n",
        "#instantiate selectors\n",
        "cat_selector = make_column_selector(dtype_include = \"object\")\n",
        "num_selector = make_column_selector(dtype_include = \"number\")\n",
        "ohe = OneHotEncoder(sparse = False, handle_unknown = \"ignore\")\n",
        "scaler = StandardScaler()\n",
        "\n",
        "#pipelines\n",
        "numeric_pipe = make_pipeline(mean_imputer, scaler)\n",
        "cat_pipe = make_pipeline(most_frequent_imputer, ohe)\n",
        "\n",
        "#tuples\n",
        "numeric_tuple = (numeric_pipe, num_selector)\n",
        "cat_tuple = (cat_pipe, cat_selector)\n",
        "\n",
        "#column transformer\n",
        "col_transformer = make_column_transformer(numeric_tuple, cat_tuple)\n",
        "\n",
        "#fit column transformer\n",
        "col_transformer.fit(X_train)\n",
        "\n",
        "#transform data\n",
        "X_train_transformed = col_transformer.transform(X_train)\n",
        "X_test_transformed = col_transformer.transform(X_test)\n",
        "\n",
        "print(np.isnan(X_train_transformed).sum().sum(),\"missing values in training data\")\n",
        "print(np.isnan(X_test_transformed).sum().sum(), \"missing values in testing data\")\n",
        "print(\"\\n\")\n",
        "print(\"All data in X_train_transformed are\", X_train_transformed.dtype)\n",
        "print(\"All data in X_test_transformed are\", X_test_transformed.dtype)\n",
        "print(\"\\n\")\n",
        "print(\"shape of data is\", X_train_transformed.shape)\n",
        "print(\"\\n\")\n",
        "\n",
        "X_train_transformed"
      ],
      "metadata": {
        "colab": {
          "base_uri": "https://localhost:8080/"
        },
        "id": "YLolcKAdVBVb",
        "outputId": "3254a4e6-186b-47ea-e780-0b924f9b4574"
      },
      "execution_count": 6,
      "outputs": [
        {
          "output_type": "stream",
          "name": "stdout",
          "text": [
            "0 missing values in training data\n",
            "0 missing values in testing data\n",
            "\n",
            "\n",
            "All data in X_train_transformed are float64\n",
            "All data in X_test_transformed are float64\n",
            "\n",
            "\n",
            "shape of data is (57, 77)\n",
            "\n",
            "\n"
          ]
        },
        {
          "output_type": "execute_result",
          "data": {
            "text/plain": [
              "array([[-1.30301442, -0.97467943,  0.56162348, ...,  0.        ,\n",
              "         1.        ,  0.        ],\n",
              "       [ 0.40438378,  0.        ,  0.68120871, ...,  0.        ,\n",
              "         1.        ,  0.        ],\n",
              "       [ 0.40438378, -0.97467943,  1.99664622, ...,  0.        ,\n",
              "         1.        ,  0.        ],\n",
              "       ...,\n",
              "       [ 1.25808288,  1.94935887, -0.03630266, ...,  1.        ,\n",
              "         1.        ,  0.        ],\n",
              "       [ 0.40438378,  0.97467943, -0.15588789, ...,  0.        ,\n",
              "         1.        ,  0.        ],\n",
              "       [ 0.40438378,  0.        ,  0.08328257, ...,  0.        ,\n",
              "         1.        ,  0.        ]])"
            ]
          },
          "metadata": {},
          "execution_count": 6
        }
      ]
    }
  ]
}