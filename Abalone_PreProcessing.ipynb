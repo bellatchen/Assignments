{
  "nbformat": 4,
  "nbformat_minor": 0,
  "metadata": {
    "colab": {
      "name": "Abalone - PreProcessing.ipynb",
      "provenance": [],
      "collapsed_sections": [],
      "mount_file_id": "1dv6525QUzqZ3xV7J8NvjWMQr6zzp9C7r",
      "authorship_tag": "ABX9TyP6v1JTEW3RUPhsuXctdjkI",
      "include_colab_link": true
    },
    "kernelspec": {
      "name": "python3",
      "display_name": "Python 3"
    },
    "language_info": {
      "name": "python"
    }
  },
  "cells": [
    {
      "cell_type": "markdown",
      "metadata": {
        "id": "view-in-github",
        "colab_type": "text"
      },
      "source": [
        "<a href=\"https://colab.research.google.com/github/bellatchen/Assignments/blob/main/Abalone_PreProcessing.ipynb\" target=\"_parent\"><img src=\"https://colab.research.google.com/assets/colab-badge.svg\" alt=\"Open In Colab\"/></a>"
      ]
    },
    {
      "cell_type": "markdown",
      "source": [
        "Bella Chen"
      ],
      "metadata": {
        "id": "WXKbzPAaWZ8J"
      }
    },
    {
      "cell_type": "code",
      "execution_count": 11,
      "metadata": {
        "id": "XYIbgAm-WSdv"
      },
      "outputs": [],
      "source": [
        "# Imports\n",
        "import pandas as pd\n",
        "import numpy as np\n",
        "from sklearn.model_selection import train_test_split\n",
        "from sklearn.compose import make_column_selector, make_column_transformer\n",
        "from sklearn.preprocessing import StandardScaler, OneHotEncoder, OrdinalEncoder\n",
        "from sklearn.impute import SimpleImputer"
      ]
    },
    {
      "cell_type": "code",
      "source": [
        "# mounting Data\n",
        "abalone = \"/content/drive/MyDrive/Coding Dojo/Data Sets/abalone.data\"\n",
        "abalone_df_original = pd.read_csv(abalone)\n",
        "abalone_df_original\n",
        "abalone_df_1 = abalone_df_original.copy(deep= True)\n",
        "print(abalone_df_1)"
      ],
      "metadata": {
        "colab": {
          "base_uri": "https://localhost:8080/"
        },
        "id": "GSMyLU4yXISP",
        "outputId": "db660673-df8d-444d-8272-dd14f66dad25"
      },
      "execution_count": 12,
      "outputs": [
        {
          "output_type": "stream",
          "name": "stdout",
          "text": [
            "     Sex  Length  Diameter  Height  Whole Weight  Shucked Weight  \\\n",
            "0      M   0.455     0.365   0.095        0.5140          0.2245   \n",
            "1      M   0.350     0.265   0.090        0.2255          0.0995   \n",
            "2      F   0.530     0.420   0.135        0.6770          0.2565   \n",
            "3      M   0.440     0.365   0.125        0.5160          0.2155   \n",
            "4      I   0.330     0.255   0.080        0.2050          0.0895   \n",
            "...   ..     ...       ...     ...           ...             ...   \n",
            "4172   F   0.565     0.450   0.165        0.8870          0.3700   \n",
            "4173   M   0.590     0.440   0.135        0.9660          0.4390   \n",
            "4174   M   0.600     0.475   0.205        1.1760          0.5255   \n",
            "4175   F   0.625     0.485   0.150        1.0945          0.5310   \n",
            "4176   M   0.710     0.555   0.195        1.9485          0.9455   \n",
            "\n",
            "      Viscera Weight  Shell Weight  Rings  \n",
            "0             0.1010        0.1500     15  \n",
            "1             0.0485        0.0700      7  \n",
            "2             0.1415        0.2100      9  \n",
            "3             0.1140        0.1550     10  \n",
            "4             0.0395        0.0550      7  \n",
            "...              ...           ...    ...  \n",
            "4172          0.2390        0.2490     11  \n",
            "4173          0.2145        0.2605     10  \n",
            "4174          0.2875        0.3080      9  \n",
            "4175          0.2610        0.2960     10  \n",
            "4176          0.3765        0.4950     12  \n",
            "\n",
            "[4177 rows x 9 columns]\n"
          ]
        }
      ]
    },
    {
      "cell_type": "code",
      "source": [
        "#Checking for Duplicates\n",
        "abalone_df_1.duplicated().sum()"
      ],
      "metadata": {
        "colab": {
          "base_uri": "https://localhost:8080/"
        },
        "id": "Q7sIzxI_ZGK4",
        "outputId": "764cc711-5230-47a3-be76-1d793803774d"
      },
      "execution_count": 13,
      "outputs": [
        {
          "output_type": "execute_result",
          "data": {
            "text/plain": [
              "0"
            ]
          },
          "metadata": {},
          "execution_count": 13
        }
      ]
    },
    {
      "cell_type": "code",
      "source": [
        "#check for missing data\n",
        "abalone_df_1.info()"
      ],
      "metadata": {
        "colab": {
          "base_uri": "https://localhost:8080/"
        },
        "id": "sdiRJ-HiaTLg",
        "outputId": "b3155caa-a3c5-40b5-b1d3-dbe3082a2d71"
      },
      "execution_count": 14,
      "outputs": [
        {
          "output_type": "stream",
          "name": "stdout",
          "text": [
            "<class 'pandas.core.frame.DataFrame'>\n",
            "RangeIndex: 4177 entries, 0 to 4176\n",
            "Data columns (total 9 columns):\n",
            " #   Column          Non-Null Count  Dtype  \n",
            "---  ------          --------------  -----  \n",
            " 0   Sex             4177 non-null   object \n",
            " 1   Length          4177 non-null   float64\n",
            " 2   Diameter        4177 non-null   float64\n",
            " 3   Height          4177 non-null   float64\n",
            " 4   Whole Weight    4177 non-null   float64\n",
            " 5   Shucked Weight  4177 non-null   float64\n",
            " 6   Viscera Weight  4177 non-null   float64\n",
            " 7   Shell Weight    4177 non-null   float64\n",
            " 8   Rings           4177 non-null   int64  \n",
            "dtypes: float64(7), int64(1), object(1)\n",
            "memory usage: 293.8+ KB\n"
          ]
        }
      ]
    },
    {
      "cell_type": "code",
      "source": [
        "#checking values and counts\n",
        "abalone_df_1[\"Sex\"].value_counts()\n",
        "#everything is uniform"
      ],
      "metadata": {
        "colab": {
          "base_uri": "https://localhost:8080/"
        },
        "id": "9wRmilxNaq78",
        "outputId": "5a982724-65f5-4d3c-fd85-c68191ea49ae"
      },
      "execution_count": 15,
      "outputs": [
        {
          "output_type": "execute_result",
          "data": {
            "text/plain": [
              "M    1528\n",
              "I    1342\n",
              "F    1307\n",
              "Name: Sex, dtype: int64"
            ]
          },
          "metadata": {},
          "execution_count": 15
        }
      ]
    },
    {
      "cell_type": "code",
      "source": [
        "# Separate data into features matrix (X) and target vector (y)\n",
        "#defining X and y; predicting charges\n",
        "X = abalone_df_1.drop(columns=[\"Rings\"])\n",
        "y = abalone_df_1[\"Rings\"]\n",
        "# Train/test split the data. Please use the random number 42 for consistency.\n",
        "X_train, X_test, y_train, y_test = train_test_split(X, y, random_state = 42)"
      ],
      "metadata": {
        "id": "e_5MxOa6Xi1O"
      },
      "execution_count": 16,
      "outputs": []
    },
    {
      "cell_type": "code",
      "source": [
        " #verifying split\n",
        " len(X_train)"
      ],
      "metadata": {
        "colab": {
          "base_uri": "https://localhost:8080/"
        },
        "id": "6xrwPwrCgYEh",
        "outputId": "ddad664d-8f7b-4df6-f0a9-6fe3d297daad"
      },
      "execution_count": 17,
      "outputs": [
        {
          "output_type": "execute_result",
          "data": {
            "text/plain": [
              "3132"
            ]
          },
          "metadata": {},
          "execution_count": 17
        }
      ]
    },
    {
      "cell_type": "markdown",
      "source": [
        "Tasks:\n",
        "\n",
        "3) Use column transformers to transform the appropriate columns in the appropriate ways.\n",
        "\n",
        "For the Column Transformations:\n",
        "\n",
        "    a) Select the categorical columns and the numerical columns\n",
        "\n",
        "    b) Use a OneHotEncoder to encode the categorical columns\n",
        "\n",
        "    c) Use a StandardScaler to scale the numeric columns\n",
        "\n",
        "    d) Use a ColumnTransformer to match the transformation to the type of column\n",
        "\n",
        "    e) Transform the data and display the resulting Numpy array.\n",
        "  "
      ],
      "metadata": {
        "id": "Tdd5b8KLWhn8"
      }
    },
    {
      "cell_type": "markdown",
      "source": [
        "Categories are: \n",
        "\n",
        "Nominal: \n",
        "- Sex\n",
        "\n",
        "Numeric:\n",
        "- Length\n",
        "- Diameter\n",
        "- Height\n",
        "- Whole Weight\n",
        "- Shucked Weight\n",
        "- Viscera Weight\n",
        "- Shell Weight"
      ],
      "metadata": {
        "id": "5RFc2cyUaJjG"
      }
    },
    {
      "cell_type": "code",
      "source": [
        "#use column transformer instead\n",
        "#make categorical + numeric selector\n",
        "cat_selector = make_column_selector(dtype_include='object')\n",
        "num_selector = make_column_selector(dtype_include='number')\n",
        "ohe_encoder = OneHotEncoder(sparse=False, handle_unknown='ignore')\n",
        "scaler = StandardScaler()\n",
        "\n",
        "#create tuples - can make as many as needed\n",
        "num_tuple = (scaler, num_selector)\n",
        "cat_tuple = (ohe_encoder, cat_selector)\n",
        "\n",
        "col_transformer = make_column_transformer(num_tuple, cat_tuple, remainder = \"passthrough\")\n",
        "col_transformer.fit(X_train)\n",
        "\n",
        "X_train_processed =  col_transformer.transform(X_train)\n",
        "X_test_processed = col_transformer.transform(X_test)\n",
        "\n",
        "X_train_processed"
      ],
      "metadata": {
        "colab": {
          "base_uri": "https://localhost:8080/"
        },
        "id": "UuRI6GJ4gUmd",
        "outputId": "b3dba591-e190-4e75-d300-8a6c731ab437"
      },
      "execution_count": 18,
      "outputs": [
        {
          "output_type": "execute_result",
          "data": {
            "text/plain": [
              "array([[ 0.74929076,  0.46422584, -0.11886923, ...,  1.        ,\n",
              "         0.        ,  0.        ],\n",
              "       [-0.09025371, -0.14465442, -0.0016468 , ...,  1.        ,\n",
              "         0.        ,  0.        ],\n",
              "       [ 1.12708577,  1.22532616,  0.81891021, ...,  0.        ,\n",
              "         0.        ,  1.        ],\n",
              "       ...,\n",
              "       [-0.13223093, -0.14465442, -0.35331409, ...,  0.        ,\n",
              "         0.        ,  1.        ],\n",
              "       [ 0.41347297,  0.56570588, -0.47053652, ...,  0.        ,\n",
              "         0.        ,  1.        ],\n",
              "       [ 0.58138187,  0.66718592,  0.46724292, ...,  1.        ,\n",
              "         0.        ,  0.        ]])"
            ]
          },
          "metadata": {},
          "execution_count": 18
        }
      ]
    }
  ]
}