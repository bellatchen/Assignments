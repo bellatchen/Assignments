{
  "nbformat": 4,
  "nbformat_minor": 0,
  "metadata": {
    "colab": {
      "name": "Olympian Avg Height.ipynb",
      "provenance": [],
      "mount_file_id": "1z-l_QIgMsWRuJO6oeJ2MDM17jjZX4VbQ",
      "authorship_tag": "ABX9TyNk9BUyAn9Lf5OZaqWA0Zdb",
      "include_colab_link": true
    },
    "kernelspec": {
      "name": "python3",
      "display_name": "Python 3"
    },
    "language_info": {
      "name": "python"
    }
  },
  "cells": [
    {
      "cell_type": "markdown",
      "metadata": {
        "id": "view-in-github",
        "colab_type": "text"
      },
      "source": [
        "<a href=\"https://colab.research.google.com/github/bellatchen/Assignments/blob/main/Olympian_Avg_Height.ipynb\" target=\"_parent\"><img src=\"https://colab.research.google.com/assets/colab-badge.svg\" alt=\"Open In Colab\"/></a>"
      ]
    },
    {
      "cell_type": "markdown",
      "source": [
        "Bella Chen"
      ],
      "metadata": {
        "id": "90GlQPVJ-9nx"
      }
    },
    {
      "cell_type": "code",
      "execution_count": 2,
      "metadata": {
        "id": "PtNhMxYg-rtq"
      },
      "outputs": [],
      "source": [
        "#Importing NumPy and Panda\n",
        "import numpy as np\n",
        "import pandas as pd"
      ]
    },
    {
      "cell_type": "code",
      "source": [
        "#Importing dataset AthleteEventsNoPersonal from drive\n",
        "Athlete_Events = \"/content/drive/MyDrive/Coding Dojo/Data Sets/athleteEventsNoPersonal.csv\"\n",
        "Athlete_Events_df = pd.read_csv(Athlete_Events)\n",
        "Athlete_Events_df"
      ],
      "metadata": {
        "id": "1I68VxmKADLc",
        "colab": {
          "base_uri": "https://localhost:8080/",
          "height": 423
        },
        "outputId": "8998ecaa-6fe0-4ec5-f9c9-655da9c72961"
      },
      "execution_count": 3,
      "outputs": [
        {
          "output_type": "execute_result",
          "data": {
            "text/plain": [
              "           ID   Age  Height         Team  NOC        Games  Year  Season  \\\n",
              "0           5  21.0   185.0  Netherlands  NED  1988 Winter  1988  Winter   \n",
              "1           5  21.0   185.0  Netherlands  NED  1988 Winter  1988  Winter   \n",
              "2           5  25.0   185.0  Netherlands  NED  1992 Winter  1992  Winter   \n",
              "3           5  25.0   185.0  Netherlands  NED  1992 Winter  1992  Winter   \n",
              "4           5  27.0   185.0  Netherlands  NED  1994 Winter  1994  Winter   \n",
              "...       ...   ...     ...          ...  ...          ...   ...     ...   \n",
              "40611  135567  28.0   183.0       Russia  RUS  2004 Summer  2004  Summer   \n",
              "40612  135570  27.0   176.0       Poland  POL  2014 Winter  2014  Winter   \n",
              "40613  135570  27.0   176.0       Poland  POL  2014 Winter  2014  Winter   \n",
              "40614  135571  30.0   185.0       Poland  POL  1998 Winter  1998  Winter   \n",
              "40615  135571  34.0   185.0       Poland  POL  2002 Winter  2002  Winter   \n",
              "\n",
              "                 City          Sport  \\\n",
              "0             Calgary  Speed Skating   \n",
              "1             Calgary  Speed Skating   \n",
              "2         Albertville  Speed Skating   \n",
              "3         Albertville  Speed Skating   \n",
              "4         Lillehammer  Speed Skating   \n",
              "...               ...            ...   \n",
              "40611          Athina         Rowing   \n",
              "40612           Sochi    Ski Jumping   \n",
              "40613           Sochi    Ski Jumping   \n",
              "40614          Nagano      Bobsleigh   \n",
              "40615  Salt Lake City      Bobsleigh   \n",
              "\n",
              "                                          Event Medal  \n",
              "0              Speed Skating Women's 500 metres   NaN  \n",
              "1            Speed Skating Women's 1,000 metres   NaN  \n",
              "2              Speed Skating Women's 500 metres   NaN  \n",
              "3            Speed Skating Women's 1,000 metres   NaN  \n",
              "4              Speed Skating Women's 500 metres   NaN  \n",
              "...                                         ...   ...  \n",
              "40611    Rowing Men's Lightweight Coxless Fours   NaN  \n",
              "40612  Ski Jumping Men's Large Hill, Individual   NaN  \n",
              "40613        Ski Jumping Men's Large Hill, Team   NaN  \n",
              "40614                      Bobsleigh Men's Four   NaN  \n",
              "40615                      Bobsleigh Men's Four   NaN  \n",
              "\n",
              "[40616 rows x 12 columns]"
            ],
            "text/html": [
              "\n",
              "  <div id=\"df-55e86ae1-63ab-4d66-addb-678c45fc6ff7\">\n",
              "    <div class=\"colab-df-container\">\n",
              "      <div>\n",
              "<style scoped>\n",
              "    .dataframe tbody tr th:only-of-type {\n",
              "        vertical-align: middle;\n",
              "    }\n",
              "\n",
              "    .dataframe tbody tr th {\n",
              "        vertical-align: top;\n",
              "    }\n",
              "\n",
              "    .dataframe thead th {\n",
              "        text-align: right;\n",
              "    }\n",
              "</style>\n",
              "<table border=\"1\" class=\"dataframe\">\n",
              "  <thead>\n",
              "    <tr style=\"text-align: right;\">\n",
              "      <th></th>\n",
              "      <th>ID</th>\n",
              "      <th>Age</th>\n",
              "      <th>Height</th>\n",
              "      <th>Team</th>\n",
              "      <th>NOC</th>\n",
              "      <th>Games</th>\n",
              "      <th>Year</th>\n",
              "      <th>Season</th>\n",
              "      <th>City</th>\n",
              "      <th>Sport</th>\n",
              "      <th>Event</th>\n",
              "      <th>Medal</th>\n",
              "    </tr>\n",
              "  </thead>\n",
              "  <tbody>\n",
              "    <tr>\n",
              "      <th>0</th>\n",
              "      <td>5</td>\n",
              "      <td>21.0</td>\n",
              "      <td>185.0</td>\n",
              "      <td>Netherlands</td>\n",
              "      <td>NED</td>\n",
              "      <td>1988 Winter</td>\n",
              "      <td>1988</td>\n",
              "      <td>Winter</td>\n",
              "      <td>Calgary</td>\n",
              "      <td>Speed Skating</td>\n",
              "      <td>Speed Skating Women's 500 metres</td>\n",
              "      <td>NaN</td>\n",
              "    </tr>\n",
              "    <tr>\n",
              "      <th>1</th>\n",
              "      <td>5</td>\n",
              "      <td>21.0</td>\n",
              "      <td>185.0</td>\n",
              "      <td>Netherlands</td>\n",
              "      <td>NED</td>\n",
              "      <td>1988 Winter</td>\n",
              "      <td>1988</td>\n",
              "      <td>Winter</td>\n",
              "      <td>Calgary</td>\n",
              "      <td>Speed Skating</td>\n",
              "      <td>Speed Skating Women's 1,000 metres</td>\n",
              "      <td>NaN</td>\n",
              "    </tr>\n",
              "    <tr>\n",
              "      <th>2</th>\n",
              "      <td>5</td>\n",
              "      <td>25.0</td>\n",
              "      <td>185.0</td>\n",
              "      <td>Netherlands</td>\n",
              "      <td>NED</td>\n",
              "      <td>1992 Winter</td>\n",
              "      <td>1992</td>\n",
              "      <td>Winter</td>\n",
              "      <td>Albertville</td>\n",
              "      <td>Speed Skating</td>\n",
              "      <td>Speed Skating Women's 500 metres</td>\n",
              "      <td>NaN</td>\n",
              "    </tr>\n",
              "    <tr>\n",
              "      <th>3</th>\n",
              "      <td>5</td>\n",
              "      <td>25.0</td>\n",
              "      <td>185.0</td>\n",
              "      <td>Netherlands</td>\n",
              "      <td>NED</td>\n",
              "      <td>1992 Winter</td>\n",
              "      <td>1992</td>\n",
              "      <td>Winter</td>\n",
              "      <td>Albertville</td>\n",
              "      <td>Speed Skating</td>\n",
              "      <td>Speed Skating Women's 1,000 metres</td>\n",
              "      <td>NaN</td>\n",
              "    </tr>\n",
              "    <tr>\n",
              "      <th>4</th>\n",
              "      <td>5</td>\n",
              "      <td>27.0</td>\n",
              "      <td>185.0</td>\n",
              "      <td>Netherlands</td>\n",
              "      <td>NED</td>\n",
              "      <td>1994 Winter</td>\n",
              "      <td>1994</td>\n",
              "      <td>Winter</td>\n",
              "      <td>Lillehammer</td>\n",
              "      <td>Speed Skating</td>\n",
              "      <td>Speed Skating Women's 500 metres</td>\n",
              "      <td>NaN</td>\n",
              "    </tr>\n",
              "    <tr>\n",
              "      <th>...</th>\n",
              "      <td>...</td>\n",
              "      <td>...</td>\n",
              "      <td>...</td>\n",
              "      <td>...</td>\n",
              "      <td>...</td>\n",
              "      <td>...</td>\n",
              "      <td>...</td>\n",
              "      <td>...</td>\n",
              "      <td>...</td>\n",
              "      <td>...</td>\n",
              "      <td>...</td>\n",
              "      <td>...</td>\n",
              "    </tr>\n",
              "    <tr>\n",
              "      <th>40611</th>\n",
              "      <td>135567</td>\n",
              "      <td>28.0</td>\n",
              "      <td>183.0</td>\n",
              "      <td>Russia</td>\n",
              "      <td>RUS</td>\n",
              "      <td>2004 Summer</td>\n",
              "      <td>2004</td>\n",
              "      <td>Summer</td>\n",
              "      <td>Athina</td>\n",
              "      <td>Rowing</td>\n",
              "      <td>Rowing Men's Lightweight Coxless Fours</td>\n",
              "      <td>NaN</td>\n",
              "    </tr>\n",
              "    <tr>\n",
              "      <th>40612</th>\n",
              "      <td>135570</td>\n",
              "      <td>27.0</td>\n",
              "      <td>176.0</td>\n",
              "      <td>Poland</td>\n",
              "      <td>POL</td>\n",
              "      <td>2014 Winter</td>\n",
              "      <td>2014</td>\n",
              "      <td>Winter</td>\n",
              "      <td>Sochi</td>\n",
              "      <td>Ski Jumping</td>\n",
              "      <td>Ski Jumping Men's Large Hill, Individual</td>\n",
              "      <td>NaN</td>\n",
              "    </tr>\n",
              "    <tr>\n",
              "      <th>40613</th>\n",
              "      <td>135570</td>\n",
              "      <td>27.0</td>\n",
              "      <td>176.0</td>\n",
              "      <td>Poland</td>\n",
              "      <td>POL</td>\n",
              "      <td>2014 Winter</td>\n",
              "      <td>2014</td>\n",
              "      <td>Winter</td>\n",
              "      <td>Sochi</td>\n",
              "      <td>Ski Jumping</td>\n",
              "      <td>Ski Jumping Men's Large Hill, Team</td>\n",
              "      <td>NaN</td>\n",
              "    </tr>\n",
              "    <tr>\n",
              "      <th>40614</th>\n",
              "      <td>135571</td>\n",
              "      <td>30.0</td>\n",
              "      <td>185.0</td>\n",
              "      <td>Poland</td>\n",
              "      <td>POL</td>\n",
              "      <td>1998 Winter</td>\n",
              "      <td>1998</td>\n",
              "      <td>Winter</td>\n",
              "      <td>Nagano</td>\n",
              "      <td>Bobsleigh</td>\n",
              "      <td>Bobsleigh Men's Four</td>\n",
              "      <td>NaN</td>\n",
              "    </tr>\n",
              "    <tr>\n",
              "      <th>40615</th>\n",
              "      <td>135571</td>\n",
              "      <td>34.0</td>\n",
              "      <td>185.0</td>\n",
              "      <td>Poland</td>\n",
              "      <td>POL</td>\n",
              "      <td>2002 Winter</td>\n",
              "      <td>2002</td>\n",
              "      <td>Winter</td>\n",
              "      <td>Salt Lake City</td>\n",
              "      <td>Bobsleigh</td>\n",
              "      <td>Bobsleigh Men's Four</td>\n",
              "      <td>NaN</td>\n",
              "    </tr>\n",
              "  </tbody>\n",
              "</table>\n",
              "<p>40616 rows × 12 columns</p>\n",
              "</div>\n",
              "      <button class=\"colab-df-convert\" onclick=\"convertToInteractive('df-55e86ae1-63ab-4d66-addb-678c45fc6ff7')\"\n",
              "              title=\"Convert this dataframe to an interactive table.\"\n",
              "              style=\"display:none;\">\n",
              "        \n",
              "  <svg xmlns=\"http://www.w3.org/2000/svg\" height=\"24px\"viewBox=\"0 0 24 24\"\n",
              "       width=\"24px\">\n",
              "    <path d=\"M0 0h24v24H0V0z\" fill=\"none\"/>\n",
              "    <path d=\"M18.56 5.44l.94 2.06.94-2.06 2.06-.94-2.06-.94-.94-2.06-.94 2.06-2.06.94zm-11 1L8.5 8.5l.94-2.06 2.06-.94-2.06-.94L8.5 2.5l-.94 2.06-2.06.94zm10 10l.94 2.06.94-2.06 2.06-.94-2.06-.94-.94-2.06-.94 2.06-2.06.94z\"/><path d=\"M17.41 7.96l-1.37-1.37c-.4-.4-.92-.59-1.43-.59-.52 0-1.04.2-1.43.59L10.3 9.45l-7.72 7.72c-.78.78-.78 2.05 0 2.83L4 21.41c.39.39.9.59 1.41.59.51 0 1.02-.2 1.41-.59l7.78-7.78 2.81-2.81c.8-.78.8-2.07 0-2.86zM5.41 20L4 18.59l7.72-7.72 1.47 1.35L5.41 20z\"/>\n",
              "  </svg>\n",
              "      </button>\n",
              "      \n",
              "  <style>\n",
              "    .colab-df-container {\n",
              "      display:flex;\n",
              "      flex-wrap:wrap;\n",
              "      gap: 12px;\n",
              "    }\n",
              "\n",
              "    .colab-df-convert {\n",
              "      background-color: #E8F0FE;\n",
              "      border: none;\n",
              "      border-radius: 50%;\n",
              "      cursor: pointer;\n",
              "      display: none;\n",
              "      fill: #1967D2;\n",
              "      height: 32px;\n",
              "      padding: 0 0 0 0;\n",
              "      width: 32px;\n",
              "    }\n",
              "\n",
              "    .colab-df-convert:hover {\n",
              "      background-color: #E2EBFA;\n",
              "      box-shadow: 0px 1px 2px rgba(60, 64, 67, 0.3), 0px 1px 3px 1px rgba(60, 64, 67, 0.15);\n",
              "      fill: #174EA6;\n",
              "    }\n",
              "\n",
              "    [theme=dark] .colab-df-convert {\n",
              "      background-color: #3B4455;\n",
              "      fill: #D2E3FC;\n",
              "    }\n",
              "\n",
              "    [theme=dark] .colab-df-convert:hover {\n",
              "      background-color: #434B5C;\n",
              "      box-shadow: 0px 1px 3px 1px rgba(0, 0, 0, 0.15);\n",
              "      filter: drop-shadow(0px 1px 2px rgba(0, 0, 0, 0.3));\n",
              "      fill: #FFFFFF;\n",
              "    }\n",
              "  </style>\n",
              "\n",
              "      <script>\n",
              "        const buttonEl =\n",
              "          document.querySelector('#df-55e86ae1-63ab-4d66-addb-678c45fc6ff7 button.colab-df-convert');\n",
              "        buttonEl.style.display =\n",
              "          google.colab.kernel.accessAllowed ? 'block' : 'none';\n",
              "\n",
              "        async function convertToInteractive(key) {\n",
              "          const element = document.querySelector('#df-55e86ae1-63ab-4d66-addb-678c45fc6ff7');\n",
              "          const dataTable =\n",
              "            await google.colab.kernel.invokeFunction('convertToInteractive',\n",
              "                                                     [key], {});\n",
              "          if (!dataTable) return;\n",
              "\n",
              "          const docLinkHtml = 'Like what you see? Visit the ' +\n",
              "            '<a target=\"_blank\" href=https://colab.research.google.com/notebooks/data_table.ipynb>data table notebook</a>'\n",
              "            + ' to learn more about interactive tables.';\n",
              "          element.innerHTML = '';\n",
              "          dataTable['output_type'] = 'display_data';\n",
              "          await google.colab.output.renderOutput(dataTable, element);\n",
              "          const docLink = document.createElement('div');\n",
              "          docLink.innerHTML = docLinkHtml;\n",
              "          element.appendChild(docLink);\n",
              "        }\n",
              "      </script>\n",
              "    </div>\n",
              "  </div>\n",
              "  "
            ]
          },
          "metadata": {},
          "execution_count": 3
        }
      ]
    },
    {
      "cell_type": "code",
      "source": [
        "#1a - How many rows? 40,616 rows \n",
        "#1b - How many columns? 12 columns\n",
        "Athlete_Events_df.info"
      ],
      "metadata": {
        "colab": {
          "base_uri": "https://localhost:8080/"
        },
        "id": "3zv_nyYjDBpa",
        "outputId": "c664a0cb-5840-4208-f1ac-1adbb1caffee"
      },
      "execution_count": 4,
      "outputs": [
        {
          "output_type": "execute_result",
          "data": {
            "text/plain": [
              "<bound method DataFrame.info of            ID   Age  Height         Team  NOC        Games  Year  Season  \\\n",
              "0           5  21.0   185.0  Netherlands  NED  1988 Winter  1988  Winter   \n",
              "1           5  21.0   185.0  Netherlands  NED  1988 Winter  1988  Winter   \n",
              "2           5  25.0   185.0  Netherlands  NED  1992 Winter  1992  Winter   \n",
              "3           5  25.0   185.0  Netherlands  NED  1992 Winter  1992  Winter   \n",
              "4           5  27.0   185.0  Netherlands  NED  1994 Winter  1994  Winter   \n",
              "...       ...   ...     ...          ...  ...          ...   ...     ...   \n",
              "40611  135567  28.0   183.0       Russia  RUS  2004 Summer  2004  Summer   \n",
              "40612  135570  27.0   176.0       Poland  POL  2014 Winter  2014  Winter   \n",
              "40613  135570  27.0   176.0       Poland  POL  2014 Winter  2014  Winter   \n",
              "40614  135571  30.0   185.0       Poland  POL  1998 Winter  1998  Winter   \n",
              "40615  135571  34.0   185.0       Poland  POL  2002 Winter  2002  Winter   \n",
              "\n",
              "                 City          Sport  \\\n",
              "0             Calgary  Speed Skating   \n",
              "1             Calgary  Speed Skating   \n",
              "2         Albertville  Speed Skating   \n",
              "3         Albertville  Speed Skating   \n",
              "4         Lillehammer  Speed Skating   \n",
              "...               ...            ...   \n",
              "40611          Athina         Rowing   \n",
              "40612           Sochi    Ski Jumping   \n",
              "40613           Sochi    Ski Jumping   \n",
              "40614          Nagano      Bobsleigh   \n",
              "40615  Salt Lake City      Bobsleigh   \n",
              "\n",
              "                                          Event Medal  \n",
              "0              Speed Skating Women's 500 metres   NaN  \n",
              "1            Speed Skating Women's 1,000 metres   NaN  \n",
              "2              Speed Skating Women's 500 metres   NaN  \n",
              "3            Speed Skating Women's 1,000 metres   NaN  \n",
              "4              Speed Skating Women's 500 metres   NaN  \n",
              "...                                         ...   ...  \n",
              "40611    Rowing Men's Lightweight Coxless Fours   NaN  \n",
              "40612  Ski Jumping Men's Large Hill, Individual   NaN  \n",
              "40613        Ski Jumping Men's Large Hill, Team   NaN  \n",
              "40614                      Bobsleigh Men's Four   NaN  \n",
              "40615                      Bobsleigh Men's Four   NaN  \n",
              "\n",
              "[40616 rows x 12 columns]>"
            ]
          },
          "metadata": {},
          "execution_count": 4
        }
      ]
    },
    {
      "cell_type": "code",
      "source": [
        "#Checking for Duplicates + Removing them\n",
        "Athlete_Events_df.duplicated().sum()"
      ],
      "metadata": {
        "colab": {
          "base_uri": "https://localhost:8080/"
        },
        "id": "_TqMfMHIyGT-",
        "outputId": "876dfdd0-d77b-4271-a1eb-7d32212e00b6"
      },
      "execution_count": 12,
      "outputs": [
        {
          "output_type": "execute_result",
          "data": {
            "text/plain": [
              "207"
            ]
          },
          "metadata": {},
          "execution_count": 12
        }
      ]
    },
    {
      "cell_type": "code",
      "source": [
        "Athlete_Events_df.drop_duplicates(inplace = True)"
      ],
      "metadata": {
        "id": "Hakl3qZjyQev"
      },
      "execution_count": 13,
      "outputs": []
    },
    {
      "cell_type": "code",
      "source": [
        "Athlete_Events_df.duplicated().sum()"
      ],
      "metadata": {
        "colab": {
          "base_uri": "https://localhost:8080/"
        },
        "id": "FaqZaU-Oyk7k",
        "outputId": "839c4933-2675-4034-a909-d7a0e23cd997"
      },
      "execution_count": 14,
      "outputs": [
        {
          "output_type": "execute_result",
          "data": {
            "text/plain": [
              "0"
            ]
          },
          "metadata": {},
          "execution_count": 14
        }
      ]
    },
    {
      "cell_type": "code",
      "source": [
        "#1c - Which columns have missing values? (Why do think there are so many null values in the Medals column?)\n",
        "Athlete_Events_df.isna().sum()\n",
        "# The medals column probably has so many nulls due to the fact that there are more athletes than medalists, with each event only having 3 medalists possible. \n",
        "# This dataset is a random sample subset and not a dataset on just medalists in each event."
      ],
      "metadata": {
        "colab": {
          "base_uri": "https://localhost:8080/"
        },
        "id": "1nNJsEKAD4AV",
        "outputId": "54b17106-aa3b-4ffd-fb7b-46f2a9913ec9"
      },
      "execution_count": 15,
      "outputs": [
        {
          "output_type": "execute_result",
          "data": {
            "text/plain": [
              "ID            0\n",
              "Age        1446\n",
              "Height     8796\n",
              "Team          0\n",
              "NOC           0\n",
              "Games         0\n",
              "Year          0\n",
              "Season        0\n",
              "City          0\n",
              "Sport         0\n",
              "Event         0\n",
              "Medal     34493\n",
              "dtype: int64"
            ]
          },
          "metadata": {},
          "execution_count": 15
        }
      ]
    },
    {
      "cell_type": "code",
      "source": [
        "#1d. How many entries correspond to the city of London?\n",
        "#filter for City\n",
        "City_filter = Athlete_Events_df[\"City\"]==\"London\"\n",
        "London = Athlete_Events_df.loc[City_filter, :]\n",
        "London[\"City\"].cumsum()"
      ],
      "metadata": {
        "colab": {
          "base_uri": "https://localhost:8080/"
        },
        "id": "ncD8GBEDG4uU",
        "outputId": "2fbca9eb-dd86-49a2-e8c3-4f486855cbf9"
      },
      "execution_count": 16,
      "outputs": [
        {
          "output_type": "execute_result",
          "data": {
            "text/plain": [
              "36                                                  London\n",
              "42                                            LondonLondon\n",
              "66                                      LondonLondonLondon\n",
              "69                                LondonLondonLondonLondon\n",
              "72                          LondonLondonLondonLondonLondon\n",
              "                               ...                        \n",
              "40577    LondonLondonLondonLondonLondonLondonLondonLond...\n",
              "40578    LondonLondonLondonLondonLondonLondonLondonLond...\n",
              "40590    LondonLondonLondonLondonLondonLondonLondonLond...\n",
              "40595    LondonLondonLondonLondonLondonLondonLondonLond...\n",
              "40609    LondonLondonLondonLondonLondonLondonLondonLond...\n",
              "Name: City, Length: 3347, dtype: object"
            ]
          },
          "metadata": {},
          "execution_count": 16
        }
      ]
    },
    {
      "cell_type": "code",
      "source": [
        "#1e. What age is the youngest athlete in our sample data? Hint: use min()\n",
        "Athlete_Events_df[\"Age\"].min()"
      ],
      "metadata": {
        "colab": {
          "base_uri": "https://localhost:8080/"
        },
        "id": "1wqbkF0wMlqP",
        "outputId": "0e260eff-a3c2-4e45-b4f1-bc7ccb08b392"
      },
      "execution_count": 17,
      "outputs": [
        {
          "output_type": "execute_result",
          "data": {
            "text/plain": [
              "11.0"
            ]
          },
          "metadata": {},
          "execution_count": 17
        }
      ]
    },
    {
      "cell_type": "code",
      "source": [
        "#2a - How many athletes who participated in the Sport \"Tug-Of-War\" were from Team \"Sweden\" in our sample dataset? - 6\n",
        "#Filter for Sport and Team\n",
        "Sport_filter = Athlete_Events_df[\"Sport\"]==\"Tug-Of-War\"\n",
        "Team_filter = Athlete_Events_df[\"Team\"]==\"Sweden\"\n",
        "Sweden_ToW_df = Athlete_Events_df.loc[Sport_filter & Team_filter, :]\n",
        "Sweden_ToW_df.count()"
      ],
      "metadata": {
        "colab": {
          "base_uri": "https://localhost:8080/"
        },
        "id": "pyhH4KzhCdph",
        "outputId": "56174f25-893b-4f3e-ed41-d8de6f68d955"
      },
      "execution_count": 18,
      "outputs": [
        {
          "output_type": "execute_result",
          "data": {
            "text/plain": [
              "ID        6\n",
              "Age       6\n",
              "Height    2\n",
              "Team      6\n",
              "NOC       6\n",
              "Games     6\n",
              "Year      6\n",
              "Season    6\n",
              "City      6\n",
              "Sport     6\n",
              "Event     6\n",
              "Medal     3\n",
              "dtype: int64"
            ]
          },
          "metadata": {},
          "execution_count": 18
        }
      ]
    },
    {
      "cell_type": "code",
      "source": [
        "#2b - How many Gold medals were awarded to athletes who were oer 40 years old? - 76 Gold medals were awarded to those 40 and older\n",
        "#filter for medals and Age\n",
        "Medals_filter = Athlete_Events_df[\"Medal\"]==\"Gold\"\n",
        "Age_filter = Athlete_Events_df[\"Age\"]>=40\n",
        "Gold_40_df = Athlete_Events_df.loc[Medals_filter & Age_filter, :]\n",
        "Gold_40_df.count()"
      ],
      "metadata": {
        "colab": {
          "base_uri": "https://localhost:8080/"
        },
        "id": "n8eRM8IOUFNO",
        "outputId": "e933affa-7239-4b68-8ff4-2896985dabcd"
      },
      "execution_count": 19,
      "outputs": [
        {
          "output_type": "execute_result",
          "data": {
            "text/plain": [
              "ID        76\n",
              "Age       76\n",
              "Height    17\n",
              "Team      76\n",
              "NOC       76\n",
              "Games     76\n",
              "Year      76\n",
              "Season    76\n",
              "City      76\n",
              "Sport     76\n",
              "Event     76\n",
              "Medal     76\n",
              "dtype: int64"
            ]
          },
          "metadata": {},
          "execution_count": 19
        }
      ]
    },
    {
      "cell_type": "code",
      "source": [
        "Athlete_Events_df.isna().sum()"
      ],
      "metadata": {
        "colab": {
          "base_uri": "https://localhost:8080/"
        },
        "id": "vch2s-aGy548",
        "outputId": "5dccd0ac-ab27-4904-f9e3-0e8a0a7b9305"
      },
      "execution_count": 21,
      "outputs": [
        {
          "output_type": "execute_result",
          "data": {
            "text/plain": [
              "ID            0\n",
              "Age        1446\n",
              "Height     8796\n",
              "Team          0\n",
              "NOC           0\n",
              "Games         0\n",
              "Year          0\n",
              "Season        0\n",
              "City          0\n",
              "Sport         0\n",
              "Event         0\n",
              "Medal     34493\n",
              "dtype: int64"
            ]
          },
          "metadata": {},
          "execution_count": 21
        }
      ]
    },
    {
      "cell_type": "code",
      "source": [
        "#3a - Determine the average height if all rows are included\n",
        "# imputing missing height with median height\n",
        "median_height = Athlete_Events_df['Height'].median()\n",
        "Athlete_Events_df['Height'].fillna(median_height, inplace=True)\n",
        "Athlete_Events_df[\"Height\"].median()"
      ],
      "metadata": {
        "colab": {
          "base_uri": "https://localhost:8080/"
        },
        "id": "xVDk5sXdX1sq",
        "outputId": "7c6fd931-ebd0-4c60-b358-d5fcf6385a55"
      },
      "execution_count": 24,
      "outputs": [
        {
          "output_type": "execute_result",
          "data": {
            "text/plain": [
              "175.0"
            ]
          },
          "metadata": {},
          "execution_count": 24
        }
      ]
    },
    {
      "cell_type": "code",
      "source": [
        "#3b - Determine the average height if all rows are included, but grouped by event\n",
        "Athlete_Events_df.groupby(\"Event\")[\"Height\"].median()"
      ],
      "metadata": {
        "colab": {
          "base_uri": "https://localhost:8080/"
        },
        "id": "-BD0S3vUzOj4",
        "outputId": "8f0cd127-25ce-459e-c692-3de43df8f354"
      },
      "execution_count": 25,
      "outputs": [
        {
          "output_type": "execute_result",
          "data": {
            "text/plain": [
              "Event\n",
              "Alpine Skiing Men's Combined                      175.0\n",
              "Alpine Skiing Men's Downhill                      175.0\n",
              "Alpine Skiing Men's Giant Slalom                  175.0\n",
              "Alpine Skiing Men's Slalom                        175.0\n",
              "Alpine Skiing Men's Super G                       179.0\n",
              "                                                  ...  \n",
              "Wrestling Women's Flyweight, Freestyle            158.0\n",
              "Wrestling Women's Heavyweight, Freestyle          177.0\n",
              "Wrestling Women's Light-Heavyweight, Freestyle    170.0\n",
              "Wrestling Women's Lightweight, Freestyle          163.0\n",
              "Wrestling Women's Middleweight, Freestyle         164.0\n",
              "Name: Height, Length: 726, dtype: float64"
            ]
          },
          "metadata": {},
          "execution_count": 25
        }
      ]
    },
    {
      "cell_type": "markdown",
      "source": [
        "3. Determine the average height if:\n",
        "\n",
        "     c. Bonus: This dataset contains many athletes more than once (if they competed in multiple events and/or multiple years). You can confirm this by finding  .value_counts on the ID column!  For the bonus task we want to get the average height of all  the athletes, but don't want to include any athlete more than once.  Hint: We learned how to drop duplicates if EVERY column was identical, but now we want to drop a row any time just the ID is repeated.  To do this,  you can use a subset of your data as an argument in the drop_duplicates function.  You can also tell Python which of the duplicates to keep by using the keep argument. Because I don't want to drop all of these values permanently from my df, I assign this as a new dataframe that I called \"one_per_athlete\"\n",
        "#one_per_athlete = df.drop_duplicates(subset = 'Column_Name', keep = 'first')"
      ],
      "metadata": {
        "id": "uzoy0cPiN2te"
      }
    },
    {
      "cell_type": "code",
      "source": [
        "Athlete_Events_df.value_counts(\"ID\")"
      ],
      "metadata": {
        "colab": {
          "base_uri": "https://localhost:8080/"
        },
        "id": "1nbIf1iO4Al8",
        "outputId": "a8869f52-15a5-4de5-d1b9-c67b9b65fcb4"
      },
      "execution_count": 27,
      "outputs": [
        {
          "output_type": "execute_result",
          "data": {
            "text/plain": [
              "ID\n",
              "119591    36\n",
              "76437     31\n",
              "133279    30\n",
              "21462     29\n",
              "91845     25\n",
              "          ..\n",
              "27338      1\n",
              "27326      1\n",
              "82949      1\n",
              "82957      1\n",
              "46770      1\n",
              "Length: 20336, dtype: int64"
            ]
          },
          "metadata": {},
          "execution_count": 27
        }
      ]
    },
    {
      "cell_type": "code",
      "source": [
        "#Setting up new df to manipulate for just Avg. Height without any duplicated IDs\n",
        "one_per_athlete = Athlete_Events_df.drop_duplicates(subset=\"ID\", keep=\"first\")"
      ],
      "metadata": {
        "id": "sKDS8QLa2g1-"
      },
      "execution_count": 26,
      "outputs": []
    },
    {
      "cell_type": "code",
      "source": [
        "one_per_athlete.value_counts(\"ID\")"
      ],
      "metadata": {
        "colab": {
          "base_uri": "https://localhost:8080/"
        },
        "id": "badantKf3ukw",
        "outputId": "356d7626-907a-42ae-d8f5-89e1a9d0d3ff"
      },
      "execution_count": 28,
      "outputs": [
        {
          "output_type": "execute_result",
          "data": {
            "text/plain": [
              "ID\n",
              "5         1\n",
              "90396     1\n",
              "90430     1\n",
              "90425     1\n",
              "90422     1\n",
              "         ..\n",
              "44801     1\n",
              "44798     1\n",
              "44797     1\n",
              "44795     1\n",
              "135571    1\n",
              "Length: 20336, dtype: int64"
            ]
          },
          "metadata": {},
          "execution_count": 28
        }
      ]
    },
    {
      "cell_type": "code",
      "source": [
        "#avg. height\n",
        "one_per_athlete[\"Height\"].median()"
      ],
      "metadata": {
        "colab": {
          "base_uri": "https://localhost:8080/"
        },
        "id": "TPhuzBhO4MnL",
        "outputId": "f9f1e411-61d8-47e7-adc1-061dc664e556"
      },
      "execution_count": 29,
      "outputs": [
        {
          "output_type": "execute_result",
          "data": {
            "text/plain": [
              "175.0"
            ]
          },
          "metadata": {},
          "execution_count": 29
        }
      ]
    },
    {
      "cell_type": "code",
      "source": [
        "#avg height - groupby event\n",
        "one_per_athlete.groupby(\"Event\")[\"Height\"].median()"
      ],
      "metadata": {
        "colab": {
          "base_uri": "https://localhost:8080/"
        },
        "id": "uoxiMoSF4f4d",
        "outputId": "1b4b4407-f9af-4583-b79b-bc1a82e039c4"
      },
      "execution_count": 30,
      "outputs": [
        {
          "output_type": "execute_result",
          "data": {
            "text/plain": [
              "Event\n",
              "Alpine Skiing Men's Combined                      175.0\n",
              "Alpine Skiing Men's Downhill                      175.0\n",
              "Alpine Skiing Men's Giant Slalom                  175.0\n",
              "Alpine Skiing Men's Slalom                        175.0\n",
              "Alpine Skiing Men's Super G                       175.0\n",
              "                                                  ...  \n",
              "Wrestling Women's Flyweight, Freestyle            158.0\n",
              "Wrestling Women's Heavyweight, Freestyle          170.0\n",
              "Wrestling Women's Light-Heavyweight, Freestyle    170.0\n",
              "Wrestling Women's Lightweight, Freestyle          161.5\n",
              "Wrestling Women's Middleweight, Freestyle         165.0\n",
              "Name: Height, Length: 609, dtype: float64"
            ]
          },
          "metadata": {},
          "execution_count": 30
        }
      ]
    }
  ]
}